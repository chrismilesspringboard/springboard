{
 "cells": [
  {
   "cell_type": "code",
   "execution_count": 1,
   "id": "7ff7015b",
   "metadata": {},
   "outputs": [
    {
     "name": "stderr",
     "output_type": "stream",
     "text": [
      "/opt/conda/lib/python3.10/site-packages/scipy/__init__.py:146: UserWarning: A NumPy version >=1.16.5 and <1.23.0 is required for this version of SciPy (detected version 1.23.5\n",
      "  warnings.warn(f\"A NumPy version >={np_minversion} and <{np_maxversion}\"\n"
     ]
    }
   ],
   "source": [
    "import itertools\n",
    "from functools import partial\n",
    "import pandas as pd\n",
    "import numpy as np\n",
    "import seaborn as sns\n",
    "import matplotlib.pyplot as plt\n",
    "\n",
    "import sklearn\n",
    "from sklearn.model_selection import cross_validate, GridSearchCV, KFold\n",
    "from sklearn.metrics import roc_auc_score\n",
    "from sklearn.preprocessing import LabelEncoder, FunctionTransformer, OneHotEncoder\n",
    "from sklearn.impute import SimpleImputer\n",
    "from sklearn.pipeline import Pipeline\n",
    "from sklearn.compose import ColumnTransformer\n",
    "from sklearn.ensemble import RandomForestClassifier\n",
    "\n",
    "import warnings\n",
    "warnings.filterwarnings(\"ignore\")\n",
    "warnings.simplefilter('ignore')"
   ]
  },
  {
   "cell_type": "markdown",
   "id": "8db34f79",
   "metadata": {},
   "source": [
    "# Part 1 ‐ Exploratory data analysis\n",
    "The attached logins.json file contains (simulated) timestamps of user logins in a particular\n",
    "geographic location. Aggregate these login counts based on 15minute time intervals, and\n",
    "visualize and describe the resulting time series of login counts in ways that best characterize the\n",
    "underlying patterns of the demand. Please report/illustrate important features of the demand,\n",
    "such as daily cycles. If there are data quality issues, please report them.\n"
   ]
  },
  {
   "cell_type": "code",
   "execution_count": 2,
   "id": "ac456ead",
   "metadata": {},
   "outputs": [
    {
     "name": "stdout",
     "output_type": "stream",
     "text": [
      "<class 'pandas.core.frame.DataFrame'>\n",
      "RangeIndex: 93142 entries, 0 to 93141\n",
      "Data columns (total 1 columns):\n",
      " #   Column      Non-Null Count  Dtype         \n",
      "---  ------      --------------  -----         \n",
      " 0   login_time  93142 non-null  datetime64[ns]\n",
      "dtypes: datetime64[ns](1)\n",
      "memory usage: 727.8 KB\n"
     ]
    },
    {
     "data": {
      "text/plain": [
       "None"
      ]
     },
     "metadata": {},
     "output_type": "display_data"
    },
    {
     "data": {
      "text/html": [
       "<div>\n",
       "<style scoped>\n",
       "    .dataframe tbody tr th:only-of-type {\n",
       "        vertical-align: middle;\n",
       "    }\n",
       "\n",
       "    .dataframe tbody tr th {\n",
       "        vertical-align: top;\n",
       "    }\n",
       "\n",
       "    .dataframe thead th {\n",
       "        text-align: right;\n",
       "    }\n",
       "</style>\n",
       "<table border=\"1\" class=\"dataframe\">\n",
       "  <thead>\n",
       "    <tr style=\"text-align: right;\">\n",
       "      <th></th>\n",
       "      <th>login_time</th>\n",
       "    </tr>\n",
       "  </thead>\n",
       "  <tbody>\n",
       "    <tr>\n",
       "      <th>0</th>\n",
       "      <td>1970-01-01 20:13:18</td>\n",
       "    </tr>\n",
       "    <tr>\n",
       "      <th>1</th>\n",
       "      <td>1970-01-01 20:16:10</td>\n",
       "    </tr>\n",
       "    <tr>\n",
       "      <th>2</th>\n",
       "      <td>1970-01-01 20:16:37</td>\n",
       "    </tr>\n",
       "    <tr>\n",
       "      <th>3</th>\n",
       "      <td>1970-01-01 20:16:36</td>\n",
       "    </tr>\n",
       "    <tr>\n",
       "      <th>4</th>\n",
       "      <td>1970-01-01 20:26:21</td>\n",
       "    </tr>\n",
       "  </tbody>\n",
       "</table>\n",
       "</div>"
      ],
      "text/plain": [
       "           login_time\n",
       "0 1970-01-01 20:13:18\n",
       "1 1970-01-01 20:16:10\n",
       "2 1970-01-01 20:16:37\n",
       "3 1970-01-01 20:16:36\n",
       "4 1970-01-01 20:26:21"
      ]
     },
     "metadata": {},
     "output_type": "display_data"
    },
    {
     "data": {
      "text/plain": [
       "Timestamp('1970-01-01 20:12:16')"
      ]
     },
     "metadata": {},
     "output_type": "display_data"
    },
    {
     "data": {
      "text/plain": [
       "Timestamp('1970-04-13 18:57:38')"
      ]
     },
     "metadata": {},
     "output_type": "display_data"
    }
   ],
   "source": [
    "df = pd.read_json('logins.json')\n",
    "display(df.info(), df.head(), df.login_time.min(), df.login_time.max())"
   ]
  },
  {
   "cell_type": "code",
   "execution_count": 3,
   "id": "0029e63e",
   "metadata": {},
   "outputs": [
    {
     "data": {
      "text/plain": [
       "'******** 15 minute frequency ********'"
      ]
     },
     "metadata": {},
     "output_type": "display_data"
    },
    {
     "data": {
      "text/html": [
       "<div>\n",
       "<style scoped>\n",
       "    .dataframe tbody tr th:only-of-type {\n",
       "        vertical-align: middle;\n",
       "    }\n",
       "\n",
       "    .dataframe tbody tr th {\n",
       "        vertical-align: top;\n",
       "    }\n",
       "\n",
       "    .dataframe thead th {\n",
       "        text-align: right;\n",
       "    }\n",
       "</style>\n",
       "<table border=\"1\" class=\"dataframe\">\n",
       "  <thead>\n",
       "    <tr style=\"text-align: right;\">\n",
       "      <th></th>\n",
       "      <th>login_time</th>\n",
       "      <th>logins</th>\n",
       "      <th>tod</th>\n",
       "    </tr>\n",
       "  </thead>\n",
       "  <tbody>\n",
       "    <tr>\n",
       "      <th>0</th>\n",
       "      <td>1970-01-01 20:00:00</td>\n",
       "      <td>2</td>\n",
       "      <td>20:00</td>\n",
       "    </tr>\n",
       "    <tr>\n",
       "      <th>1</th>\n",
       "      <td>1970-01-01 20:15:00</td>\n",
       "      <td>6</td>\n",
       "      <td>20:15</td>\n",
       "    </tr>\n",
       "    <tr>\n",
       "      <th>2</th>\n",
       "      <td>1970-01-01 20:30:00</td>\n",
       "      <td>9</td>\n",
       "      <td>20:30</td>\n",
       "    </tr>\n",
       "    <tr>\n",
       "      <th>3</th>\n",
       "      <td>1970-01-01 20:45:00</td>\n",
       "      <td>7</td>\n",
       "      <td>20:45</td>\n",
       "    </tr>\n",
       "    <tr>\n",
       "      <th>4</th>\n",
       "      <td>1970-01-01 21:00:00</td>\n",
       "      <td>1</td>\n",
       "      <td>21:00</td>\n",
       "    </tr>\n",
       "  </tbody>\n",
       "</table>\n",
       "</div>"
      ],
      "text/plain": [
       "           login_time  logins    tod\n",
       "0 1970-01-01 20:00:00       2  20:00\n",
       "1 1970-01-01 20:15:00       6  20:15\n",
       "2 1970-01-01 20:30:00       9  20:30\n",
       "3 1970-01-01 20:45:00       7  20:45\n",
       "4 1970-01-01 21:00:00       1  21:00"
      ]
     },
     "metadata": {},
     "output_type": "display_data"
    },
    {
     "data": {
      "text/plain": [
       "'******** 1 hour frequency ********'"
      ]
     },
     "metadata": {},
     "output_type": "display_data"
    },
    {
     "data": {
      "text/html": [
       "<div>\n",
       "<style scoped>\n",
       "    .dataframe tbody tr th:only-of-type {\n",
       "        vertical-align: middle;\n",
       "    }\n",
       "\n",
       "    .dataframe tbody tr th {\n",
       "        vertical-align: top;\n",
       "    }\n",
       "\n",
       "    .dataframe thead th {\n",
       "        text-align: right;\n",
       "    }\n",
       "</style>\n",
       "<table border=\"1\" class=\"dataframe\">\n",
       "  <thead>\n",
       "    <tr style=\"text-align: right;\">\n",
       "      <th></th>\n",
       "      <th>login_time</th>\n",
       "      <th>logins</th>\n",
       "      <th>hour</th>\n",
       "    </tr>\n",
       "  </thead>\n",
       "  <tbody>\n",
       "    <tr>\n",
       "      <th>0</th>\n",
       "      <td>1970-01-01 20:00:00</td>\n",
       "      <td>24</td>\n",
       "      <td>20</td>\n",
       "    </tr>\n",
       "    <tr>\n",
       "      <th>1</th>\n",
       "      <td>1970-01-01 21:00:00</td>\n",
       "      <td>9</td>\n",
       "      <td>21</td>\n",
       "    </tr>\n",
       "    <tr>\n",
       "      <th>2</th>\n",
       "      <td>1970-01-01 22:00:00</td>\n",
       "      <td>21</td>\n",
       "      <td>22</td>\n",
       "    </tr>\n",
       "    <tr>\n",
       "      <th>3</th>\n",
       "      <td>1970-01-01 23:00:00</td>\n",
       "      <td>58</td>\n",
       "      <td>23</td>\n",
       "    </tr>\n",
       "    <tr>\n",
       "      <th>4</th>\n",
       "      <td>1970-01-02 00:00:00</td>\n",
       "      <td>53</td>\n",
       "      <td>0</td>\n",
       "    </tr>\n",
       "  </tbody>\n",
       "</table>\n",
       "</div>"
      ],
      "text/plain": [
       "           login_time  logins  hour\n",
       "0 1970-01-01 20:00:00      24    20\n",
       "1 1970-01-01 21:00:00       9    21\n",
       "2 1970-01-01 22:00:00      21    22\n",
       "3 1970-01-01 23:00:00      58    23\n",
       "4 1970-01-02 00:00:00      53     0"
      ]
     },
     "metadata": {},
     "output_type": "display_data"
    },
    {
     "data": {
      "text/plain": [
       "'******** 1 day frequency ********'"
      ]
     },
     "metadata": {},
     "output_type": "display_data"
    },
    {
     "data": {
      "text/html": [
       "<div>\n",
       "<style scoped>\n",
       "    .dataframe tbody tr th:only-of-type {\n",
       "        vertical-align: middle;\n",
       "    }\n",
       "\n",
       "    .dataframe tbody tr th {\n",
       "        vertical-align: top;\n",
       "    }\n",
       "\n",
       "    .dataframe thead th {\n",
       "        text-align: right;\n",
       "    }\n",
       "</style>\n",
       "<table border=\"1\" class=\"dataframe\">\n",
       "  <thead>\n",
       "    <tr style=\"text-align: right;\">\n",
       "      <th></th>\n",
       "      <th>login_time</th>\n",
       "      <th>logins</th>\n",
       "      <th>day</th>\n",
       "    </tr>\n",
       "  </thead>\n",
       "  <tbody>\n",
       "    <tr>\n",
       "      <th>0</th>\n",
       "      <td>1970-01-01</td>\n",
       "      <td>112</td>\n",
       "      <td>3</td>\n",
       "    </tr>\n",
       "    <tr>\n",
       "      <th>1</th>\n",
       "      <td>1970-01-02</td>\n",
       "      <td>681</td>\n",
       "      <td>4</td>\n",
       "    </tr>\n",
       "    <tr>\n",
       "      <th>2</th>\n",
       "      <td>1970-01-03</td>\n",
       "      <td>793</td>\n",
       "      <td>5</td>\n",
       "    </tr>\n",
       "    <tr>\n",
       "      <th>3</th>\n",
       "      <td>1970-01-04</td>\n",
       "      <td>788</td>\n",
       "      <td>6</td>\n",
       "    </tr>\n",
       "    <tr>\n",
       "      <th>4</th>\n",
       "      <td>1970-01-05</td>\n",
       "      <td>459</td>\n",
       "      <td>0</td>\n",
       "    </tr>\n",
       "  </tbody>\n",
       "</table>\n",
       "</div>"
      ],
      "text/plain": [
       "  login_time  logins  day\n",
       "0 1970-01-01     112    3\n",
       "1 1970-01-02     681    4\n",
       "2 1970-01-03     793    5\n",
       "3 1970-01-04     788    6\n",
       "4 1970-01-05     459    0"
      ]
     },
     "metadata": {},
     "output_type": "display_data"
    }
   ],
   "source": [
    "df = df.groupby(pd.Grouper(key='login_time', freq='15min')).size().reset_index(name='logins')\n",
    "df['tod'] = df.login_time.dt.strftime('%H:%M')\n",
    "# df['hour'] = df.login_time.dt.hour\n",
    "df_hour = df.groupby(pd.Grouper(key='login_time', freq='H'))['logins'].sum().reset_index(name='logins')\n",
    "df_hour['hour'] = df_hour.login_time.dt.hour\n",
    "df_day = df.groupby(pd.Grouper(key='login_time', freq='D'))['logins'].sum().reset_index(name='logins')\n",
    "df_day['day'] = df_day.login_time.dt.day_of_week\n",
    "\n",
    "display('******** 15 minute frequency ********', df.head(), \n",
    "        '******** 1 hour frequency ********', df_hour.head(), \n",
    "        '******** 1 day frequency ********', df_day.head())"
   ]
  },
  {
   "cell_type": "code",
   "execution_count": 4,
   "id": "565aa1c3",
   "metadata": {},
   "outputs": [
    {
     "data": {
      "image/png": "[encoded data removed]",
      "text/plain": [
       "<Figure size 750x500 with 1 Axes>"
      ]
     },
     "metadata": {},
     "output_type": "display_data"
    }
   ],
   "source": [
    "# plt.figure(figsize=(7, 15))\n",
    "facet = sns.relplot(x='hour', y='logins', data=df_hour, kind='line', aspect=1.5)\n",
    "custom_ticks = range(24)\n",
    "plt.title('Relationship between hour of day and logins')\n",
    "plt.xticks(custom_ticks)\n",
    "plt.grid(True)\n",
    "plt.xticks(rotation=90)\n",
    "plt.show()"
   ]
  },
  {
   "cell_type": "code",
   "execution_count": 5,
   "id": "ecaf7790",
   "metadata": {},
   "outputs": [
    {
     "data": {
      "image/png": "[encoded data removed]",
      "text/plain": [
       "<Figure size 750x500 with 1 Axes>"
      ]
     },
     "metadata": {},
     "output_type": "display_data"
    }
   ],
   "source": [
    "facet = sns.relplot(x='day', y='logins', data=df_day, kind='line', aspect=1.5)\n",
    "plt.title('Relationship between day of week and logins')\n",
    "plt.grid(True)\n",
    "plt.xticks(range(7), labels=['Monday', 'Tuesday', 'Wednesday', 'Thursday', 'Friday', 'Saturday', 'Sunday'], rotation=45)\n",
    "plt.show()"
   ]
  },
  {
   "cell_type": "markdown",
   "id": "e4d64fab",
   "metadata": {},
   "source": [
    "# Part 2 ‐ Experiment and metrics design\n",
    "The neighboring cities of Gotham and Metropolis have complementary circadian rhythms: on\n",
    "weekdays, Ultimate Gotham is most active at night, and Ultimate Metropolis is most active\n",
    "during the day. On weekends, there is reasonable activity in both cities.\n",
    "\n",
    "However, a toll bridge, with a two way toll, between the two cities causes driver partners to tend\n",
    "to be exclusive to each city. The Ultimate managers of city operations for the two cities have\n",
    "proposed an experiment to encourage driver partners to be available in both cities, by\n",
    "reimbursing all toll costs.\n",
    "1) What would you choose as the key measure of success of this experiment in\n",
    "encouraging driver partners to serve both cities, and why would you choose this metric?\n",
    " \n",
    " - **Answer: Proportion of drivers of who gave rides in both cities over a 7 day period**\n",
    " - **I would choose this metric because because this would measure how willing drivers are to serve both cities**\n",
    "2) Describe a practical experiment you would design to compare the effectiveness of the\n",
    "proposed change in relation to the key measure of success. Please provide details on:\n",
    "    * a) how you will implement the experiment\n",
    "    - **Answer: I will randomly select half of the drivers to be given toll reimbursment over a 7 day period, calling this group A. Group B would be the drivers without any change to their work agreement. Then I will measure the metric of the two groups as described in the answer to question 1. Then I will check if the difference is significant.**\n",
    "    * b) what statistical test(s) you will conduct to verify the significance of the\n",
    "observation. \n",
    "    - **Answer: I will use a hypothesis test to test significance.**\n",
    "    - **Null hypothesis: There is no difference between A and B with respect to the metric.**\n",
    "    - **I would use bootstrapping to take many samples from the data, ignoring the group identity. For each sample I would take the mean of the metric. Then I would I find what percentage of those samples showed a mean metric at least as extreme as group B.**\n",
    "    * c) how you would interpret the results and provide recommendations to the city\n",
    "operations team along with any caveats.\n",
    "\n",
    "    * **Answer: If less than 5% of the samples showed a mean metric at least as extreme as group B, I would say that the difference is significant and that reimbursing toll costs would result in more drivers being available in both cities. If this was the case I would recommend that the city operations team provide toll reimbursment to drivers. However this is subject to the profit and overall goals of the team. The down side is the revenue lost to reimbursment. The up side is the added profit from more rides and the added brand value of lower wait times for riders. If the benefits outweight the costs then they should go with this program, otherwise they should not.**\n",
    "    \n",
    "    \n",
    "Note: The two cities of Gotham and Metropolis are not in the provided dataset; however, you do\n",
    "not need this information to answer Part 2."
   ]
  },
  {
   "cell_type": "markdown",
   "id": "66175d52",
   "metadata": {},
   "source": [
    "# Part 3 ‐ Predictive modeling\n",
    "Ultimate is interested in predicting rider retention. To help explore this question, we have\n",
    "provided a sample dataset of a cohort of users who signed up for an Ultimate account in\n",
    "January 2014. The data was pulled several months later; we consider a user retained if they\n",
    "were “active” (i.e. took a trip) in the preceding 30 days.\n",
    "\n",
    "We would like you to use this data set to help understand what factors are the best predictors\n",
    "for retention, and offer suggestions to operationalize those insights to help Ultimate.\n",
    "\n",
    "The data is in the attached file ultimate_data_challenge.json. See below for a detailed\n",
    "description of the dataset. Please include any code you wrote for the analysis and delete the\n",
    "dataset when you have finished with the challenge.\n",
    "\n",
    "    1. Perform any cleaning, exploratory analysis, and/or visualizations to use the provided\n",
    "    data for this analysis (a few sentences/plots describing your approach will suffice). What\n",
    "    fraction of the observed users were retained?\n",
    "    \n",
    "    2. Build a predictive model to help Ultimate determine whether or not a user will be active in\n",
    "    their 6th month on the system. Discuss why you chose your approach, what alternatives\n",
    "    you considered, and any concerns you have. How valid is your model? Include any key\n",
    "    indicators of model performance.\n",
    "    \n",
    "    3. Briefly discuss how Ultimate might leverage the insights gained from the model to\n",
    "    improve its long term rider retention (again, a few sentences will suffice).\n",
    "\n",
    "### Data description\n",
    "    ● city: city this user signed up in\n",
    "    ● phone: primary device for this user\n",
    "    ● signup_date: date of account registration; in the form ‘YYYYMMDD’\n",
    "    ● last_trip_date: the last time this user completed a trip; in the form ‘YYYYMMDD’\n",
    "    ● avg_dist: the average distance in miles per trip taken in the first 30 days after signup\n",
    "    ● avg_rating_by_driver: the rider’s average rating over all of their trips\n",
    "    ● avg_rating_of_driver: the rider’s average rating of their drivers over all of their trips\n",
    "    ● surge_pct: the percent of trips taken with surge multiplier > 1\n",
    "    ● avg_surge: The average surge multiplier over all of this user’s trips\n",
    "    ● trips_in_first_30_days: the number of trips this user took in the first 30 days after signing up\n",
    "    ● ultimate_black_user: TRUE if the user took an Ultimate Black in their first 30 days; FALSE\n",
    "    otherwise\n",
    "    ● weekday_pct: the percent of the user’s trips occurring during a weekday"
   ]
  },
  {
   "cell_type": "markdown",
   "id": "5efa19ab",
   "metadata": {},
   "source": [
    "### Load data, create target and EDA\n",
    "37.6% of the users were retained"
   ]
  },
  {
   "cell_type": "code",
   "execution_count": 6,
   "id": "87452719",
   "metadata": {},
   "outputs": [
    {
     "name": "stdout",
     "output_type": "stream",
     "text": [
      "<class 'pandas.core.frame.DataFrame'>\n",
      "RangeIndex: 50000 entries, 0 to 49999\n",
      "Data columns (total 12 columns):\n",
      " #   Column                  Non-Null Count  Dtype  \n",
      "---  ------                  --------------  -----  \n",
      " 0   city                    50000 non-null  object \n",
      " 1   trips_in_first_30_days  50000 non-null  int64  \n",
      " 2   signup_date             50000 non-null  object \n",
      " 3   avg_rating_of_driver    41878 non-null  float64\n",
      " 4   avg_surge               50000 non-null  float64\n",
      " 5   last_trip_date          50000 non-null  object \n",
      " 6   phone                   49604 non-null  object \n",
      " 7   surge_pct               50000 non-null  float64\n",
      " 8   ultimate_black_user     50000 non-null  bool   \n",
      " 9   weekday_pct             50000 non-null  float64\n",
      " 10  avg_dist                50000 non-null  float64\n",
      " 11  avg_rating_by_driver    49799 non-null  float64\n",
      "dtypes: bool(1), float64(6), int64(1), object(4)\n",
      "memory usage: 4.2+ MB\n"
     ]
    },
    {
     "data": {
      "text/html": [
       "<div>\n",
       "<style scoped>\n",
       "    .dataframe tbody tr th:only-of-type {\n",
       "        vertical-align: middle;\n",
       "    }\n",
       "\n",
       "    .dataframe tbody tr th {\n",
       "        vertical-align: top;\n",
       "    }\n",
       "\n",
       "    .dataframe thead th {\n",
       "        text-align: right;\n",
       "    }\n",
       "</style>\n",
       "<table border=\"1\" class=\"dataframe\">\n",
       "  <thead>\n",
       "    <tr style=\"text-align: right;\">\n",
       "      <th></th>\n",
       "      <th>city</th>\n",
       "      <th>trips_in_first_30_days</th>\n",
       "      <th>signup_date</th>\n",
       "      <th>avg_rating_of_driver</th>\n",
       "      <th>avg_surge</th>\n",
       "      <th>last_trip_date</th>\n",
       "      <th>phone</th>\n",
       "      <th>surge_pct</th>\n",
       "      <th>ultimate_black_user</th>\n",
       "      <th>weekday_pct</th>\n",
       "      <th>avg_dist</th>\n",
       "      <th>avg_rating_by_driver</th>\n",
       "    </tr>\n",
       "  </thead>\n",
       "  <tbody>\n",
       "    <tr>\n",
       "      <th>0</th>\n",
       "      <td>King's Landing</td>\n",
       "      <td>4</td>\n",
       "      <td>2014-01-25</td>\n",
       "      <td>4.7</td>\n",
       "      <td>1.10</td>\n",
       "      <td>2014-06-17</td>\n",
       "      <td>iPhone</td>\n",
       "      <td>15.4</td>\n",
       "      <td>True</td>\n",
       "      <td>46.2</td>\n",
       "      <td>3.67</td>\n",
       "      <td>5.0</td>\n",
       "    </tr>\n",
       "    <tr>\n",
       "      <th>1</th>\n",
       "      <td>Astapor</td>\n",
       "      <td>0</td>\n",
       "      <td>2014-01-29</td>\n",
       "      <td>5.0</td>\n",
       "      <td>1.00</td>\n",
       "      <td>2014-05-05</td>\n",
       "      <td>Android</td>\n",
       "      <td>0.0</td>\n",
       "      <td>False</td>\n",
       "      <td>50.0</td>\n",
       "      <td>8.26</td>\n",
       "      <td>5.0</td>\n",
       "    </tr>\n",
       "    <tr>\n",
       "      <th>2</th>\n",
       "      <td>Astapor</td>\n",
       "      <td>3</td>\n",
       "      <td>2014-01-06</td>\n",
       "      <td>4.3</td>\n",
       "      <td>1.00</td>\n",
       "      <td>2014-01-07</td>\n",
       "      <td>iPhone</td>\n",
       "      <td>0.0</td>\n",
       "      <td>False</td>\n",
       "      <td>100.0</td>\n",
       "      <td>0.77</td>\n",
       "      <td>5.0</td>\n",
       "    </tr>\n",
       "    <tr>\n",
       "      <th>3</th>\n",
       "      <td>King's Landing</td>\n",
       "      <td>9</td>\n",
       "      <td>2014-01-10</td>\n",
       "      <td>4.6</td>\n",
       "      <td>1.14</td>\n",
       "      <td>2014-06-29</td>\n",
       "      <td>iPhone</td>\n",
       "      <td>20.0</td>\n",
       "      <td>True</td>\n",
       "      <td>80.0</td>\n",
       "      <td>2.36</td>\n",
       "      <td>4.9</td>\n",
       "    </tr>\n",
       "    <tr>\n",
       "      <th>4</th>\n",
       "      <td>Winterfell</td>\n",
       "      <td>14</td>\n",
       "      <td>2014-01-27</td>\n",
       "      <td>4.4</td>\n",
       "      <td>1.19</td>\n",
       "      <td>2014-03-15</td>\n",
       "      <td>Android</td>\n",
       "      <td>11.8</td>\n",
       "      <td>False</td>\n",
       "      <td>82.4</td>\n",
       "      <td>3.13</td>\n",
       "      <td>4.9</td>\n",
       "    </tr>\n",
       "  </tbody>\n",
       "</table>\n",
       "</div>"
      ],
      "text/plain": [
       "             city  trips_in_first_30_days signup_date  avg_rating_of_driver  \\\n",
       "0  King's Landing                       4  2014-01-25                   4.7   \n",
       "1         Astapor                       0  2014-01-29                   5.0   \n",
       "2         Astapor                       3  2014-01-06                   4.3   \n",
       "3  King's Landing                       9  2014-01-10                   4.6   \n",
       "4      Winterfell                      14  2014-01-27                   4.4   \n",
       "\n",
       "   avg_surge last_trip_date    phone  surge_pct  ultimate_black_user  \\\n",
       "0       1.10     2014-06-17   iPhone       15.4                 True   \n",
       "1       1.00     2014-05-05  Android        0.0                False   \n",
       "2       1.00     2014-01-07   iPhone        0.0                False   \n",
       "3       1.14     2014-06-29   iPhone       20.0                 True   \n",
       "4       1.19     2014-03-15  Android       11.8                False   \n",
       "\n",
       "   weekday_pct  avg_dist  avg_rating_by_driver  \n",
       "0         46.2      3.67                   5.0  \n",
       "1         50.0      8.26                   5.0  \n",
       "2        100.0      0.77                   5.0  \n",
       "3         80.0      2.36                   4.9  \n",
       "4         82.4      3.13                   4.9  "
      ]
     },
     "metadata": {},
     "output_type": "display_data"
    },
    {
     "data": {
      "text/plain": [
       "None"
      ]
     },
     "metadata": {},
     "output_type": "display_data"
    }
   ],
   "source": [
    "df = pd.read_json('ultimate_data_challenge.json')\n",
    "display(df.head(), df.info())"
   ]
  },
  {
   "cell_type": "code",
   "execution_count": 7,
   "id": "1ca034e0",
   "metadata": {},
   "outputs": [],
   "source": [
    "df['signup_date'] = pd.to_datetime(df['signup_date'])\n",
    "df['last_trip_date'] = pd.to_datetime(df['last_trip_date'])"
   ]
  },
  {
   "cell_type": "code",
   "execution_count": 8,
   "id": "f83e2845",
   "metadata": {},
   "outputs": [
    {
     "name": "stdout",
     "output_type": "stream",
     "text": [
      "target = (last_trip_date >= 2014-06-01 00:00:00).\n"
     ]
    }
   ],
   "source": [
    "cutoff_date = df['last_trip_date'].max() - pd.Timedelta(days=30)\n",
    "print(f'target = (last_trip_date >= {cutoff_date}).')\n",
    "df['target'] = (df.last_trip_date >= cutoff_date).astype(int)"
   ]
  },
  {
   "cell_type": "code",
   "execution_count": 9,
   "id": "4f247236",
   "metadata": {},
   "outputs": [
    {
     "data": {
      "text/plain": [
       "0.37608"
      ]
     },
     "execution_count": 9,
     "metadata": {},
     "output_type": "execute_result"
    }
   ],
   "source": [
    "df.target.mean()"
   ]
  },
  {
   "cell_type": "markdown",
   "id": "7874dd0c",
   "metadata": {},
   "source": [
    "#### EDA\n",
    "Here I will perform eda only on 1/5th of the data. In this way, I will be able to validate the conclusions of my eda by using the remaining data."
   ]
  },
  {
   "cell_type": "code",
   "execution_count": 10,
   "id": "d7e14851",
   "metadata": {},
   "outputs": [
    {
     "name": "stdout",
     "output_type": "stream",
     "text": [
      "<class 'pandas.core.frame.DataFrame'>\n",
      "RangeIndex: 50000 entries, 0 to 49999\n",
      "Data columns (total 13 columns):\n",
      " #   Column                  Non-Null Count  Dtype         \n",
      "---  ------                  --------------  -----         \n",
      " 0   city                    50000 non-null  object        \n",
      " 1   trips_in_first_30_days  50000 non-null  int64         \n",
      " 2   signup_date             50000 non-null  datetime64[ns]\n",
      " 3   avg_rating_of_driver    41878 non-null  float64       \n",
      " 4   avg_surge               50000 non-null  float64       \n",
      " 5   last_trip_date          50000 non-null  datetime64[ns]\n",
      " 6   phone                   49604 non-null  object        \n",
      " 7   surge_pct               50000 non-null  float64       \n",
      " 8   ultimate_black_user     50000 non-null  bool          \n",
      " 9   weekday_pct             50000 non-null  float64       \n",
      " 10  avg_dist                50000 non-null  float64       \n",
      " 11  avg_rating_by_driver    49799 non-null  float64       \n",
      " 12  target                  50000 non-null  int64         \n",
      "dtypes: bool(1), datetime64[ns](2), float64(6), int64(2), object(2)\n",
      "memory usage: 4.6+ MB\n"
     ]
    }
   ],
   "source": [
    "df.info()"
   ]
  },
  {
   "cell_type": "code",
   "execution_count": 11,
   "id": "c8bae6e1",
   "metadata": {},
   "outputs": [
    {
     "name": "stdout",
     "output_type": "stream",
     "text": [
      "First, lets look at the correlation of the numerical columns with the target\n"
     ]
    },
    {
     "data": {
      "text/plain": [
       "trips_in_first_30_days    0.210463\n",
       "avg_rating_of_driver     -0.011653\n",
       "avg_surge                -0.003333\n",
       "surge_pct                 0.011797\n",
       "weekday_pct               0.009693\n",
       "avg_dist                 -0.092780\n",
       "avg_rating_by_driver     -0.026791\n",
       "target                    1.000000\n",
       "Name: target, dtype: float64"
      ]
     },
     "execution_count": 11,
     "metadata": {},
     "output_type": "execute_result"
    }
   ],
   "source": [
    "print('First, lets look at the correlation of the numerical columns with the target')\n",
    "num_corr = df.select_dtypes('number').corr().sort_values('target', ascending=False)\n",
    "num_corr.loc['target']"
   ]
  },
  {
   "cell_type": "code",
   "execution_count": 12,
   "id": "1c7d2671",
   "metadata": {},
   "outputs": [],
   "source": [
    "num_cols = df.select_dtypes('number').columns\n",
    "cat_cols = df.select_dtypes(exclude=['number']).columns\n",
    "cat_cols = [c for c in cat_cols if 'date' not in c]"
   ]
  },
  {
   "cell_type": "markdown",
   "id": "6847cec4",
   "metadata": {},
   "source": [
    "#### Numerical Columns"
   ]
  },
  {
   "cell_type": "code",
   "execution_count": 13,
   "id": "ed97a451",
   "metadata": {},
   "outputs": [
    {
     "name": "stdout",
     "output_type": "stream",
     "text": [
      "Lets check Nans in our numerical columns\n"
     ]
    },
    {
     "data": {
      "text/plain": [
       "trips_in_first_30_days       0\n",
       "avg_rating_of_driver      8122\n",
       "avg_surge                    0\n",
       "surge_pct                    0\n",
       "weekday_pct                  0\n",
       "avg_dist                     0\n",
       "avg_rating_by_driver       201\n",
       "target                       0\n",
       "dtype: int64"
      ]
     },
     "metadata": {},
     "output_type": "display_data"
    },
    {
     "name": "stdout",
     "output_type": "stream",
     "text": [
      "For the two columns with nans, we may have to impute the nans if we want to use them in modeling.\n"
     ]
    }
   ],
   "source": [
    "print('Lets check Nans in our numerical columns')\n",
    "display(df[num_cols].isna().sum())\n",
    "print('For the two columns with nans, we may have to impute the nans if we want to use them in modeling.')"
   ]
  },
  {
   "cell_type": "code",
   "execution_count": 14,
   "id": "b2ee4aae",
   "metadata": {},
   "outputs": [
    {
     "name": "stdout",
     "output_type": "stream",
     "text": [
      "Since the target is binary, it might make more sense to look at the mean of each numerical column for each value of the target\n"
     ]
    },
    {
     "data": {
      "text/html": [
       "<div>\n",
       "<style scoped>\n",
       "    .dataframe tbody tr th:only-of-type {\n",
       "        vertical-align: middle;\n",
       "    }\n",
       "\n",
       "    .dataframe tbody tr th {\n",
       "        vertical-align: top;\n",
       "    }\n",
       "\n",
       "    .dataframe thead th {\n",
       "        text-align: right;\n",
       "    }\n",
       "</style>\n",
       "<table border=\"1\" class=\"dataframe\">\n",
       "  <thead>\n",
       "    <tr style=\"text-align: right;\">\n",
       "      <th></th>\n",
       "      <th>trips_in_first_30_days</th>\n",
       "      <th>avg_rating_of_driver</th>\n",
       "      <th>avg_surge</th>\n",
       "      <th>surge_pct</th>\n",
       "      <th>weekday_pct</th>\n",
       "      <th>avg_dist</th>\n",
       "      <th>avg_rating_by_driver</th>\n",
       "    </tr>\n",
       "    <tr>\n",
       "      <th>target</th>\n",
       "      <th></th>\n",
       "      <th></th>\n",
       "      <th></th>\n",
       "      <th></th>\n",
       "      <th></th>\n",
       "      <th></th>\n",
       "      <th></th>\n",
       "    </tr>\n",
       "  </thead>\n",
       "  <tbody>\n",
       "    <tr>\n",
       "      <th>0</th>\n",
       "      <td>1.658482</td>\n",
       "      <td>4.607557</td>\n",
       "      <td>1.075339</td>\n",
       "      <td>8.666739</td>\n",
       "      <td>60.647032</td>\n",
       "      <td>6.207939</td>\n",
       "      <td>4.787464</td>\n",
       "    </tr>\n",
       "    <tr>\n",
       "      <th>1</th>\n",
       "      <td>3.306318</td>\n",
       "      <td>4.592930</td>\n",
       "      <td>1.073809</td>\n",
       "      <td>9.152797</td>\n",
       "      <td>61.389034</td>\n",
       "      <td>5.114788</td>\n",
       "      <td>4.762772</td>\n",
       "    </tr>\n",
       "  </tbody>\n",
       "</table>\n",
       "</div>"
      ],
      "text/plain": [
       "        trips_in_first_30_days  avg_rating_of_driver  avg_surge  surge_pct  \\\n",
       "target                                                                       \n",
       "0                     1.658482              4.607557   1.075339   8.666739   \n",
       "1                     3.306318              4.592930   1.073809   9.152797   \n",
       "\n",
       "        weekday_pct  avg_dist  avg_rating_by_driver  \n",
       "target                                               \n",
       "0         60.647032  6.207939              4.787464  \n",
       "1         61.389034  5.114788              4.762772  "
      ]
     },
     "metadata": {},
     "output_type": "display_data"
    },
    {
     "name": "stdout",
     "output_type": "stream",
     "text": [
      "These columns look possibly promising: ['trips_in_first_30_days', 'surge_pct', 'weekday_pct', 'avg_dist']\n",
      "Note: All the promising columns have no nans, so we will not worry about nan imputation for numerical columns\n"
     ]
    }
   ],
   "source": [
    "print('Since the target is binary, it might make more sense to look at the mean of each numerical column for each value of the target')\n",
    "display(df[num_cols].groupby('target').mean())\n",
    "promising_num_cols = ['trips_in_first_30_days', 'surge_pct', 'weekday_pct', 'avg_dist']\n",
    "print(f\"These columns look possibly promising: {promising_num_cols}\")\n",
    "print('Note: All the promising columns have no nans, so we will not worry about nan imputation for numerical columns')"
   ]
  },
  {
   "cell_type": "markdown",
   "id": "73c283c0",
   "metadata": {},
   "source": [
    "#### Categorical features"
   ]
  },
  {
   "cell_type": "code",
   "execution_count": 15,
   "id": "2877ccaf",
   "metadata": {},
   "outputs": [
    {
     "name": "stdout",
     "output_type": "stream",
     "text": [
      "Looking at nans\n"
     ]
    },
    {
     "data": {
      "text/plain": [
       "city                     0\n",
       "phone                  396\n",
       "ultimate_black_user      0\n",
       "dtype: int64"
      ]
     },
     "metadata": {},
     "output_type": "display_data"
    },
    {
     "name": "stdout",
     "output_type": "stream",
     "text": [
      "Note about nans in categorical: These can be seen as another category, although they may be imputed if we deem it useful.\n"
     ]
    }
   ],
   "source": [
    "print('Looking at nans')\n",
    "display(df[cat_cols].isna().sum())\n",
    "print('Note about nans in categorical: These can be seen as another category, although they may be imputed if we deem it useful.')"
   ]
  },
  {
   "cell_type": "code",
   "execution_count": 16,
   "id": "26b4bcc8",
   "metadata": {},
   "outputs": [
    {
     "name": "stdout",
     "output_type": "stream",
     "text": [
      "For categorical columns, we should look at the value counts and target mean per value\n"
     ]
    },
    {
     "data": {
      "text/plain": [
       "'*********column city*********'"
      ]
     },
     "metadata": {},
     "output_type": "display_data"
    },
    {
     "data": {
      "text/plain": [
       "Winterfell        23336\n",
       "Astapor           16534\n",
       "King's Landing    10130\n",
       "Name: city, dtype: int64"
      ]
     },
     "metadata": {},
     "output_type": "display_data"
    },
    {
     "data": {
      "text/plain": [
       "'target mean per group'"
      ]
     },
     "metadata": {},
     "output_type": "display_data"
    },
    {
     "data": {
      "text/plain": [
       "city\n",
       "Astapor           0.255715\n",
       "King's Landing    0.628134\n",
       "Winterfell        0.351945\n",
       "Name: target, dtype: float64"
      ]
     },
     "metadata": {},
     "output_type": "display_data"
    },
    {
     "data": {
      "text/plain": [
       "'*********column phone*********'"
      ]
     },
     "metadata": {},
     "output_type": "display_data"
    },
    {
     "data": {
      "text/plain": [
       "iPhone     34582\n",
       "Android    15022\n",
       "None         396\n",
       "Name: phone, dtype: int64"
      ]
     },
     "metadata": {},
     "output_type": "display_data"
    },
    {
     "data": {
      "text/plain": [
       "'target mean per group'"
      ]
     },
     "metadata": {},
     "output_type": "display_data"
    },
    {
     "data": {
      "text/plain": [
       "phone\n",
       "Android    0.209426\n",
       "iPhone     0.448933\n",
       "NaN        0.335859\n",
       "Name: target, dtype: float64"
      ]
     },
     "metadata": {},
     "output_type": "display_data"
    },
    {
     "data": {
      "text/plain": [
       "'*********column ultimate_black_user*********'"
      ]
     },
     "metadata": {},
     "output_type": "display_data"
    },
    {
     "data": {
      "text/plain": [
       "False    31146\n",
       "True     18854\n",
       "Name: ultimate_black_user, dtype: int64"
      ]
     },
     "metadata": {},
     "output_type": "display_data"
    },
    {
     "data": {
      "text/plain": [
       "'target mean per group'"
      ]
     },
     "metadata": {},
     "output_type": "display_data"
    },
    {
     "data": {
      "text/plain": [
       "ultimate_black_user\n",
       "False    0.298818\n",
       "True     0.503713\n",
       "Name: target, dtype: float64"
      ]
     },
     "metadata": {},
     "output_type": "display_data"
    },
    {
     "name": "stdout",
     "output_type": "stream",
     "text": [
      "All the categorical columns look promising\n"
     ]
    }
   ],
   "source": [
    "print('For categorical columns, we should look at the value counts and target mean per value')\n",
    "for col in df[cat_cols].columns: \n",
    "    display(f'*********column {col}*********', df[col].value_counts(dropna=False), \n",
    "            'target mean per group', \n",
    "            df.groupby(col, dropna=False)['target'].mean())\n",
    "print('All the categorical columns look promising')"
   ]
  },
  {
   "cell_type": "code",
   "execution_count": 17,
   "id": "e3d6f271",
   "metadata": {},
   "outputs": [
    {
     "name": "stdout",
     "output_type": "stream",
     "text": [
      "All our categorical columns have low cardinality, so lets see if we can use them to predict the target\n"
     ]
    },
    {
     "data": {
      "text/html": [
       "<div>\n",
       "<style scoped>\n",
       "    .dataframe tbody tr th:only-of-type {\n",
       "        vertical-align: middle;\n",
       "    }\n",
       "\n",
       "    .dataframe tbody tr th {\n",
       "        vertical-align: top;\n",
       "    }\n",
       "\n",
       "    .dataframe thead th {\n",
       "        text-align: right;\n",
       "    }\n",
       "</style>\n",
       "<table border=\"1\" class=\"dataframe\">\n",
       "  <thead>\n",
       "    <tr style=\"text-align: right;\">\n",
       "      <th></th>\n",
       "      <th></th>\n",
       "      <th></th>\n",
       "      <th>mean</th>\n",
       "      <th>count</th>\n",
       "    </tr>\n",
       "    <tr>\n",
       "      <th>city</th>\n",
       "      <th>phone</th>\n",
       "      <th>ultimate_black_user</th>\n",
       "      <th></th>\n",
       "      <th></th>\n",
       "    </tr>\n",
       "  </thead>\n",
       "  <tbody>\n",
       "    <tr>\n",
       "      <th rowspan=\"2\" valign=\"top\">Astapor</th>\n",
       "      <th>Android</th>\n",
       "      <th>False</th>\n",
       "      <td>0.096159</td>\n",
       "      <td>3515</td>\n",
       "    </tr>\n",
       "    <tr>\n",
       "      <th>NaN</th>\n",
       "      <th>False</th>\n",
       "      <td>0.140000</td>\n",
       "      <td>50</td>\n",
       "    </tr>\n",
       "    <tr>\n",
       "      <th>Winterfell</th>\n",
       "      <th>Android</th>\n",
       "      <th>False</th>\n",
       "      <td>0.159867</td>\n",
       "      <td>5098</td>\n",
       "    </tr>\n",
       "    <tr>\n",
       "      <th rowspan=\"2\" valign=\"top\">Astapor</th>\n",
       "      <th>Android</th>\n",
       "      <th>True</th>\n",
       "      <td>0.177559</td>\n",
       "      <td>1729</td>\n",
       "    </tr>\n",
       "    <tr>\n",
       "      <th>iPhone</th>\n",
       "      <th>False</th>\n",
       "      <td>0.230437</td>\n",
       "      <td>6492</td>\n",
       "    </tr>\n",
       "    <tr>\n",
       "      <th rowspan=\"3\" valign=\"top\">Winterfell</th>\n",
       "      <th>Android</th>\n",
       "      <th>True</th>\n",
       "      <td>0.272227</td>\n",
       "      <td>2182</td>\n",
       "    </tr>\n",
       "    <tr>\n",
       "      <th rowspan=\"2\" valign=\"top\">NaN</th>\n",
       "      <th>False</th>\n",
       "      <td>0.282051</td>\n",
       "      <td>78</td>\n",
       "    </tr>\n",
       "    <tr>\n",
       "      <th>True</th>\n",
       "      <td>0.323308</td>\n",
       "      <td>133</td>\n",
       "    </tr>\n",
       "    <tr>\n",
       "      <th>Astapor</th>\n",
       "      <th>NaN</th>\n",
       "      <th>True</th>\n",
       "      <td>0.323944</td>\n",
       "      <td>71</td>\n",
       "    </tr>\n",
       "    <tr>\n",
       "      <th>King's Landing</th>\n",
       "      <th>Android</th>\n",
       "      <th>False</th>\n",
       "      <td>0.342785</td>\n",
       "      <td>1587</td>\n",
       "    </tr>\n",
       "    <tr>\n",
       "      <th>Winterfell</th>\n",
       "      <th>iPhone</th>\n",
       "      <th>False</th>\n",
       "      <td>0.350085</td>\n",
       "      <td>9989</td>\n",
       "    </tr>\n",
       "    <tr>\n",
       "      <th>Astapor</th>\n",
       "      <th>iPhone</th>\n",
       "      <th>True</th>\n",
       "      <td>0.439812</td>\n",
       "      <td>4677</td>\n",
       "    </tr>\n",
       "    <tr>\n",
       "      <th>King's Landing</th>\n",
       "      <th>NaN</th>\n",
       "      <th>True</th>\n",
       "      <td>0.552632</td>\n",
       "      <td>38</td>\n",
       "    </tr>\n",
       "    <tr>\n",
       "      <th>Winterfell</th>\n",
       "      <th>iPhone</th>\n",
       "      <th>True</th>\n",
       "      <td>0.553620</td>\n",
       "      <td>5856</td>\n",
       "    </tr>\n",
       "    <tr>\n",
       "      <th rowspan=\"4\" valign=\"top\">King's Landing</th>\n",
       "      <th>iPhone</th>\n",
       "      <th>False</th>\n",
       "      <td>0.596381</td>\n",
       "      <td>4311</td>\n",
       "    </tr>\n",
       "    <tr>\n",
       "      <th>Android</th>\n",
       "      <th>True</th>\n",
       "      <td>0.601537</td>\n",
       "      <td>911</td>\n",
       "    </tr>\n",
       "    <tr>\n",
       "      <th>NaN</th>\n",
       "      <th>False</th>\n",
       "      <td>0.653846</td>\n",
       "      <td>26</td>\n",
       "    </tr>\n",
       "    <tr>\n",
       "      <th>iPhone</th>\n",
       "      <th>True</th>\n",
       "      <td>0.817317</td>\n",
       "      <td>3257</td>\n",
       "    </tr>\n",
       "  </tbody>\n",
       "</table>\n",
       "</div>"
      ],
      "text/plain": [
       "                                                mean  count\n",
       "city           phone   ultimate_black_user                 \n",
       "Astapor        Android False                0.096159   3515\n",
       "               NaN     False                0.140000     50\n",
       "Winterfell     Android False                0.159867   5098\n",
       "Astapor        Android True                 0.177559   1729\n",
       "               iPhone  False                0.230437   6492\n",
       "Winterfell     Android True                 0.272227   2182\n",
       "               NaN     False                0.282051     78\n",
       "                       True                 0.323308    133\n",
       "Astapor        NaN     True                 0.323944     71\n",
       "King's Landing Android False                0.342785   1587\n",
       "Winterfell     iPhone  False                0.350085   9989\n",
       "Astapor        iPhone  True                 0.439812   4677\n",
       "King's Landing NaN     True                 0.552632     38\n",
       "Winterfell     iPhone  True                 0.553620   5856\n",
       "King's Landing iPhone  False                0.596381   4311\n",
       "               Android True                 0.601537    911\n",
       "               NaN     False                0.653846     26\n",
       "               iPhone  True                 0.817317   3257"
      ]
     },
     "metadata": {},
     "output_type": "display_data"
    },
    {
     "name": "stdout",
     "output_type": "stream",
     "text": [
      "From looking at these groupings, it is clear the combination of city, phone and \n",
      "\"ultimate_black_user\" is a very good predictor of the target\n"
     ]
    }
   ],
   "source": [
    "print('All our categorical columns have low cardinality, so lets see if we can use them to predict the target')\n",
    "display(df.groupby(cat_cols, dropna=False)['target'].agg(['mean', 'count']).sort_values('mean'))\n",
    "print('From looking at these groupings, it is clear the combination of city, phone and \\n\\\n",
    "\"ultimate_black_user\" is a very good predictor of the target')"
   ]
  },
  {
   "cell_type": "markdown",
   "id": "d3a5a890",
   "metadata": {},
   "source": [
    "### Modeling: \n",
    "#### Target: probability of user being \"Active\"\n",
    "I choose this instead of binary label because it is more flexible. Probabilities can be used to rank our predictions in terms of likelihood of being active. We can always convert our probabilites to a binary label using a threshold that is taylored to our usecase.  \n",
    "\n",
    "#### Metric: AUC-ROC\n",
    "This metric will give a measure of how our good our probabilites are across many thresholds. \n",
    "\n",
    "#### Models tried: \n",
    "* Logistic regression and random forest: Both were tried with various hyperparameters and column choices\n",
    "\n",
    "* groupby(cat_cols)['target].mean(): tried just with category columns\n",
    "\n",
    "\n",
    "#### Results\n",
    "##### Simple Groupby is as good as any model, scoring .76 auc-roc\n",
    "Just grouping by the categorical columns gives an auc-roc score that is just as good as the best logistic regression or random forest models. This would be my choice of models since it scores the best and is highly explainable. The model simply partitions the customers into groups and takes the mean of the target for each group. \n"
   ]
  },
  {
   "cell_type": "markdown",
   "id": "9680f877",
   "metadata": {},
   "source": [
    "## Experimentation"
   ]
  },
  {
   "cell_type": "code",
   "execution_count": 18,
   "id": "dfbffacd",
   "metadata": {},
   "outputs": [
    {
     "data": {
      "text/plain": [
       "((40000, 12), (10000, 13))"
      ]
     },
     "execution_count": 18,
     "metadata": {},
     "output_type": "execute_result"
    }
   ],
   "source": [
    "for trid, teid in KFold(shuffle=True, random_state=0).split(df): \n",
    "    train, test = df.iloc[trid], df.iloc[teid]\n",
    "    xtr, ytr = train.drop(columns=['target']), train['target']\n",
    "    xte, yte = test.drop(columns=['target']), test['target']  \n",
    "    break\n",
    "xtr.shape, test.shape"
   ]
  },
  {
   "cell_type": "markdown",
   "id": "99700f09",
   "metadata": {},
   "source": [
    "#### Can we use Logistic Regression\n",
    "I would like to use logistic regression since there are nice interpretations of the Beta coefficients. However, if the assumptions of logistic regression are not met. Then the interpretation of our coefficients may not be valid."
   ]
  },
  {
   "cell_type": "markdown",
   "id": "434b3eed",
   "metadata": {},
   "source": [
    "#### Multicolinearity check\n",
    "We don't want high colinearity between the one hot encoded categorical features. Lets check out the correlation given 2 one-hot-encoding schemes; One where don't fill nans or drop dummy columns, and one where we do fill nans and drop a dummy column from each categorical variable.\n"
   ]
  },
  {
   "cell_type": "code",
   "execution_count": 19,
   "id": "f9a1ade3",
   "metadata": {
    "scrolled": true
   },
   "outputs": [
    {
     "data": {
      "image/png": "[encoded data removed]",
      "text/plain": [
       "<Figure size 640x480 with 2 Axes>"
      ]
     },
     "metadata": {},
     "output_type": "display_data"
    }
   ],
   "source": [
    "ohe = Pipeline([('ohe', OneHotEncoder(handle_unknown='ignore'))])\n",
    "ohed = ohe.fit_transform(xtr[cat_cols]).todense()\n",
    "columns = [c for x in ohe['ohe'].categories_ for c in x]\n",
    "ohed = pd.DataFrame(ohed, columns = columns)\n",
    "sns.heatmap(ohed.corr(), annot=True, cmap='coolwarm', fmt='.2f')\n",
    "plt.title('Correlation of one-hot-encoded categorical columns');"
   ]
  },
  {
   "cell_type": "code",
   "execution_count": 20,
   "id": "2d929c64",
   "metadata": {},
   "outputs": [
    {
     "name": "stdout",
     "output_type": "stream",
     "text": [
      "[\"King's Landing\", 'Winterfell', 'iPhone', True]\n"
     ]
    },
    {
     "data": {
      "image/png": "[encoded data removed]",
      "text/plain": [
       "<Figure size 640x480 with 2 Axes>"
      ]
     },
     "metadata": {},
     "output_type": "display_data"
    }
   ],
   "source": [
    "ohe2 = Pipeline([('convert_None2NaN', FunctionTransformer(lambda df: df.fillna(np.nan))),\n",
    "                ('fillnan', SimpleImputer(strategy='most_frequent')), \n",
    "                ('ohe2', OneHotEncoder(handle_unknown='ignore', drop='first'))\n",
    "])\n",
    "ohe2d = ohe2.fit_transform(xtr[cat_cols]).todense()\n",
    "columns = [c for x in ohe2['ohe2'].categories_ for c in x[1:]]\n",
    "print(columns)\n",
    "ohe2d = pd.DataFrame(ohe2d, columns = columns)\n",
    "sns.heatmap(ohe2d.corr(), annot=True, cmap='coolwarm', fmt='.2f')\n",
    "plt.title('Correlation of one-hot-encoded categorical columns after filling nan and  dropping frist level');"
   ]
  },
  {
   "cell_type": "markdown",
   "id": "a4cd0dcd",
   "metadata": {},
   "source": [
    "We haven't eliminated all multicolinearity, but lets build a logistic regression model."
   ]
  },
  {
   "cell_type": "code",
   "execution_count": 21,
   "id": "d5324fb4",
   "metadata": {},
   "outputs": [],
   "source": [
    "def subset_cols(df, cols): return df[cols] if cols else df"
   ]
  },
  {
   "cell_type": "code",
   "execution_count": 22,
   "id": "eda2a5d5",
   "metadata": {},
   "outputs": [],
   "source": [
    "lrpipe = Pipeline([\n",
    "    ('subset_cols', FunctionTransformer(partial(subset_cols, cols=cat_cols))),\n",
    "    ('ohe2', ohe2), \n",
    "    ('lr_model', sklearn.linear_model.LogisticRegression())\n",
    "])"
   ]
  },
  {
   "cell_type": "code",
   "execution_count": 23,
   "id": "452c35e4",
   "metadata": {},
   "outputs": [
    {
     "data": {
      "text/plain": [
       "{'memory': None,\n",
       " 'steps': [('subset_cols',\n",
       "   FunctionTransformer(func=functools.partial(<function subset_cols at 0x7fde0d778ee0>, cols=['city', 'phone', 'ultimate_black_user']))),\n",
       "  ('ohe2',\n",
       "   Pipeline(steps=[('convert_None2NaN',\n",
       "                    FunctionTransformer(func=<function <lambda> at 0x7fde0e55b1c0>)),\n",
       "                   ('fillnan', SimpleImputer(strategy='most_frequent')),\n",
       "                   ('ohe2', OneHotEncoder(drop='first', handle_unknown='ignore'))])),\n",
       "  ('lr_model', LogisticRegression())],\n",
       " 'verbose': False,\n",
       " 'subset_cols': FunctionTransformer(func=functools.partial(<function subset_cols at 0x7fde0d778ee0>, cols=['city', 'phone', 'ultimate_black_user'])),\n",
       " 'ohe2': Pipeline(steps=[('convert_None2NaN',\n",
       "                  FunctionTransformer(func=<function <lambda> at 0x7fde0e55b1c0>)),\n",
       "                 ('fillnan', SimpleImputer(strategy='most_frequent')),\n",
       "                 ('ohe2', OneHotEncoder(drop='first', handle_unknown='ignore'))]),\n",
       " 'lr_model': LogisticRegression(),\n",
       " 'subset_cols__accept_sparse': False,\n",
       " 'subset_cols__check_inverse': True,\n",
       " 'subset_cols__feature_names_out': None,\n",
       " 'subset_cols__func': functools.partial(<function subset_cols at 0x7fde0d778ee0>, cols=['city', 'phone', 'ultimate_black_user']),\n",
       " 'subset_cols__inv_kw_args': None,\n",
       " 'subset_cols__inverse_func': None,\n",
       " 'subset_cols__kw_args': None,\n",
       " 'subset_cols__validate': False,\n",
       " 'ohe2__memory': None,\n",
       " 'ohe2__steps': [('convert_None2NaN',\n",
       "   FunctionTransformer(func=<function <lambda> at 0x7fde0e55b1c0>)),\n",
       "  ('fillnan', SimpleImputer(strategy='most_frequent')),\n",
       "  ('ohe2', OneHotEncoder(drop='first', handle_unknown='ignore'))],\n",
       " 'ohe2__verbose': False,\n",
       " 'ohe2__convert_None2NaN': FunctionTransformer(func=<function <lambda> at 0x7fde0e55b1c0>),\n",
       " 'ohe2__fillnan': SimpleImputer(strategy='most_frequent'),\n",
       " 'ohe2__ohe2': OneHotEncoder(drop='first', handle_unknown='ignore'),\n",
       " 'ohe2__convert_None2NaN__accept_sparse': False,\n",
       " 'ohe2__convert_None2NaN__check_inverse': True,\n",
       " 'ohe2__convert_None2NaN__feature_names_out': None,\n",
       " 'ohe2__convert_None2NaN__func': <function __main__.<lambda>(df)>,\n",
       " 'ohe2__convert_None2NaN__inv_kw_args': None,\n",
       " 'ohe2__convert_None2NaN__inverse_func': None,\n",
       " 'ohe2__convert_None2NaN__kw_args': None,\n",
       " 'ohe2__convert_None2NaN__validate': False,\n",
       " 'ohe2__fillnan__add_indicator': False,\n",
       " 'ohe2__fillnan__copy': True,\n",
       " 'ohe2__fillnan__fill_value': None,\n",
       " 'ohe2__fillnan__keep_empty_features': False,\n",
       " 'ohe2__fillnan__missing_values': nan,\n",
       " 'ohe2__fillnan__strategy': 'most_frequent',\n",
       " 'ohe2__fillnan__verbose': 'deprecated',\n",
       " 'ohe2__ohe2__categories': 'auto',\n",
       " 'ohe2__ohe2__drop': 'first',\n",
       " 'ohe2__ohe2__dtype': numpy.float64,\n",
       " 'ohe2__ohe2__handle_unknown': 'ignore',\n",
       " 'ohe2__ohe2__max_categories': None,\n",
       " 'ohe2__ohe2__min_frequency': None,\n",
       " 'ohe2__ohe2__sparse': 'deprecated',\n",
       " 'ohe2__ohe2__sparse_output': True,\n",
       " 'lr_model__C': 1.0,\n",
       " 'lr_model__class_weight': None,\n",
       " 'lr_model__dual': False,\n",
       " 'lr_model__fit_intercept': True,\n",
       " 'lr_model__intercept_scaling': 1,\n",
       " 'lr_model__l1_ratio': None,\n",
       " 'lr_model__max_iter': 100,\n",
       " 'lr_model__multi_class': 'auto',\n",
       " 'lr_model__n_jobs': None,\n",
       " 'lr_model__penalty': 'l2',\n",
       " 'lr_model__random_state': None,\n",
       " 'lr_model__solver': 'lbfgs',\n",
       " 'lr_model__tol': 0.0001,\n",
       " 'lr_model__verbose': 0,\n",
       " 'lr_model__warm_start': False}"
      ]
     },
     "execution_count": 23,
     "metadata": {},
     "output_type": "execute_result"
    }
   ],
   "source": [
    "lrpipe.get_params()"
   ]
  },
  {
   "cell_type": "code",
   "execution_count": 24,
   "id": "b2bd9e57",
   "metadata": {},
   "outputs": [],
   "source": [
    "y, x = df['target'], df.drop(columns=['target'])"
   ]
  },
  {
   "cell_type": "code",
   "execution_count": 25,
   "id": "db7617ce",
   "metadata": {},
   "outputs": [],
   "source": [
    "# cross_validate??"
   ]
  },
  {
   "cell_type": "code",
   "execution_count": 26,
   "id": "e2e4fad1",
   "metadata": {},
   "outputs": [
    {
     "name": "stdout",
     "output_type": "stream",
     "text": [
      "Default params roc_auc score\n",
      "cv roc_auc score: 0.727558594126918\n"
     ]
    },
    {
     "data": {
      "text/html": [
       "<div>\n",
       "<style scoped>\n",
       "    .dataframe tbody tr th:only-of-type {\n",
       "        vertical-align: middle;\n",
       "    }\n",
       "\n",
       "    .dataframe tbody tr th {\n",
       "        vertical-align: top;\n",
       "    }\n",
       "\n",
       "    .dataframe thead th {\n",
       "        text-align: right;\n",
       "    }\n",
       "</style>\n",
       "<table border=\"1\" class=\"dataframe\">\n",
       "  <thead>\n",
       "    <tr style=\"text-align: right;\">\n",
       "      <th></th>\n",
       "      <th>King's Landing</th>\n",
       "      <th>Winterfell</th>\n",
       "      <th>iPhone</th>\n",
       "      <th>True</th>\n",
       "    </tr>\n",
       "  </thead>\n",
       "  <tbody>\n",
       "    <tr>\n",
       "      <th>0</th>\n",
       "      <td>1.645034</td>\n",
       "      <td>0.545914</td>\n",
       "      <td>1.07439</td>\n",
       "      <td>0.888597</td>\n",
       "    </tr>\n",
       "  </tbody>\n",
       "</table>\n",
       "</div>"
      ],
      "text/plain": [
       "   King's Landing  Winterfell   iPhone      True\n",
       "0        1.645034    0.545914  1.07439  0.888597"
      ]
     },
     "metadata": {},
     "output_type": "display_data"
    }
   ],
   "source": [
    "print('Default params roc_auc score')\n",
    "m = cross_validate(estimator=lrpipe, X=x, y=y, \n",
    "                   return_estimator=True, scoring='roc_auc')\n",
    "print(f\"cv roc_auc score: {np.mean(m['test_score'])}\")\n",
    "model = m['estimator'][0]['lr_model']\n",
    "display(pd.DataFrame(model.coef_, columns=columns))"
   ]
  },
  {
   "cell_type": "code",
   "execution_count": 27,
   "id": "aaa654c0",
   "metadata": {},
   "outputs": [
    {
     "name": "stdout",
     "output_type": "stream",
     "text": [
      "No regularization penalty\n",
      "cv roc_auc score: 0.727558594126918\n"
     ]
    },
    {
     "data": {
      "text/html": [
       "<div>\n",
       "<style scoped>\n",
       "    .dataframe tbody tr th:only-of-type {\n",
       "        vertical-align: middle;\n",
       "    }\n",
       "\n",
       "    .dataframe tbody tr th {\n",
       "        vertical-align: top;\n",
       "    }\n",
       "\n",
       "    .dataframe thead th {\n",
       "        text-align: right;\n",
       "    }\n",
       "</style>\n",
       "<table border=\"1\" class=\"dataframe\">\n",
       "  <thead>\n",
       "    <tr style=\"text-align: right;\">\n",
       "      <th></th>\n",
       "      <th>King's Landing</th>\n",
       "      <th>Winterfell</th>\n",
       "      <th>iPhone</th>\n",
       "      <th>True</th>\n",
       "    </tr>\n",
       "  </thead>\n",
       "  <tbody>\n",
       "    <tr>\n",
       "      <th>0</th>\n",
       "      <td>1.647074</td>\n",
       "      <td>0.547089</td>\n",
       "      <td>1.07526</td>\n",
       "      <td>0.889222</td>\n",
       "    </tr>\n",
       "  </tbody>\n",
       "</table>\n",
       "</div>"
      ],
      "text/plain": [
       "   King's Landing  Winterfell   iPhone      True\n",
       "0        1.647074    0.547089  1.07526  0.889222"
      ]
     },
     "metadata": {},
     "output_type": "display_data"
    },
    {
     "name": "stdout",
     "output_type": "stream",
     "text": [
      "the score is identical but the coefficients are slightly larger\n"
     ]
    }
   ],
   "source": [
    "print('No regularization penalty')\n",
    "lrpipe.set_params(lr_model__penalty=None)\n",
    "m = cross_validate(estimator=lrpipe, X=x, y=y, \n",
    "                   return_estimator=True, scoring='roc_auc')\n",
    "print(f\"cv roc_auc score: {np.mean(m['test_score'])}\")\n",
    "model = m['estimator'][0]['lr_model']\n",
    "display(pd.DataFrame(model.coef_, columns=columns))\n",
    "print('the score is identical but the coefficients are slightly larger')"
   ]
  },
  {
   "cell_type": "code",
   "execution_count": 28,
   "id": "0d982aa1",
   "metadata": {},
   "outputs": [
    {
     "name": "stderr",
     "output_type": "stream",
     "text": [
      "/opt/conda/lib/python3.10/site-packages/scipy/__init__.py:146: UserWarning: A NumPy version >=1.16.5 and <1.23.0 is required for this version of SciPy (detected version 1.23.5\n",
      "  warnings.warn(f\"A NumPy version >={np_minversion} and <{np_maxversion}\"\n",
      "/opt/conda/lib/python3.10/site-packages/scipy/__init__.py:146: UserWarning: A NumPy version >=1.16.5 and <1.23.0 is required for this version of SciPy (detected version 1.23.5\n",
      "  warnings.warn(f\"A NumPy version >={np_minversion} and <{np_maxversion}\"\n",
      "/opt/conda/lib/python3.10/site-packages/scipy/__init__.py:146: UserWarning: A NumPy version >=1.16.5 and <1.23.0 is required for this version of SciPy (detected version 1.23.5\n",
      "  warnings.warn(f\"A NumPy version >={np_minversion} and <{np_maxversion}\"\n",
      "/opt/conda/lib/python3.10/site-packages/scipy/__init__.py:146: UserWarning: A NumPy version >=1.16.5 and <1.23.0 is required for this version of SciPy (detected version 1.23.5\n",
      "  warnings.warn(f\"A NumPy version >={np_minversion} and <{np_maxversion}\"\n",
      "/opt/conda/lib/python3.10/site-packages/scipy/__init__.py:146: UserWarning: A NumPy version >=1.16.5 and <1.23.0 is required for this version of SciPy (detected version 1.23.5\n",
      "  warnings.warn(f\"A NumPy version >={np_minversion} and <{np_maxversion}\"\n",
      "/opt/conda/lib/python3.10/site-packages/scipy/__init__.py:146: UserWarning: A NumPy version >=1.16.5 and <1.23.0 is required for this version of SciPy (detected version 1.23.5\n",
      "  warnings.warn(f\"A NumPy version >={np_minversion} and <{np_maxversion}\"\n",
      "/opt/conda/lib/python3.10/site-packages/scipy/__init__.py:146: UserWarning: A NumPy version >=1.16.5 and <1.23.0 is required for this version of SciPy (detected version 1.23.5\n",
      "  warnings.warn(f\"A NumPy version >={np_minversion} and <{np_maxversion}\"\n",
      "/opt/conda/lib/python3.10/site-packages/scipy/__init__.py:146: UserWarning: A NumPy version >=1.16.5 and <1.23.0 is required for this version of SciPy (detected version 1.23.5\n",
      "  warnings.warn(f\"A NumPy version >={np_minversion} and <{np_maxversion}\"\n",
      "/opt/conda/lib/python3.10/site-packages/scipy/__init__.py:146: UserWarning: A NumPy version >=1.16.5 and <1.23.0 is required for this version of SciPy (detected version 1.23.5\n",
      "  warnings.warn(f\"A NumPy version >={np_minversion} and <{np_maxversion}\"\n",
      "/opt/conda/lib/python3.10/site-packages/scipy/__init__.py:146: UserWarning: A NumPy version >=1.16.5 and <1.23.0 is required for this version of SciPy (detected version 1.23.5\n",
      "  warnings.warn(f\"A NumPy version >={np_minversion} and <{np_maxversion}\"\n",
      "/opt/conda/lib/python3.10/site-packages/scipy/__init__.py:146: UserWarning: A NumPy version >=1.16.5 and <1.23.0 is required for this version of SciPy (detected version 1.23.5\n",
      "  warnings.warn(f\"A NumPy version >={np_minversion} and <{np_maxversion}\"\n",
      "/opt/conda/lib/python3.10/site-packages/scipy/__init__.py:146: UserWarning: A NumPy version >=1.16.5 and <1.23.0 is required for this version of SciPy (detected version 1.23.5\n",
      "  warnings.warn(f\"A NumPy version >={np_minversion} and <{np_maxversion}\"\n",
      "/opt/conda/lib/python3.10/site-packages/scipy/__init__.py:146: UserWarning: A NumPy version >=1.16.5 and <1.23.0 is required for this version of SciPy (detected version 1.23.5\n",
      "  warnings.warn(f\"A NumPy version >={np_minversion} and <{np_maxversion}\"\n",
      "/opt/conda/lib/python3.10/site-packages/scipy/__init__.py:146: UserWarning: A NumPy version >=1.16.5 and <1.23.0 is required for this version of SciPy (detected version 1.23.5\n",
      "  warnings.warn(f\"A NumPy version >={np_minversion} and <{np_maxversion}\"\n",
      "/opt/conda/lib/python3.10/site-packages/scipy/__init__.py:146: UserWarning: A NumPy version >=1.16.5 and <1.23.0 is required for this version of SciPy (detected version 1.23.5\n",
      "  warnings.warn(f\"A NumPy version >={np_minversion} and <{np_maxversion}\"\n",
      "/opt/conda/lib/python3.10/site-packages/scipy/__init__.py:146: UserWarning: A NumPy version >=1.16.5 and <1.23.0 is required for this version of SciPy (detected version 1.23.5\n",
      "  warnings.warn(f\"A NumPy version >={np_minversion} and <{np_maxversion}\"\n"
     ]
    },
    {
     "name": "stdout",
     "output_type": "stream",
     "text": [
      "best_params: {'lr_model__C': 0.001, 'lr_model__penalty': 'l2', 'lr_model__solver': 'saga'}, \n",
      "best_score: 0.7279403646870816\n",
      "CPU times: user 4.54 s, sys: 582 ms, total: 5.12 s\n",
      "Wall time: 6.6 s\n"
     ]
    }
   ],
   "source": [
    "%%time\n",
    "# with warnings.filterwarnings('ignore'): \n",
    "param_grid = {\n",
    "    'lr_model__penalty': ['l1', 'l2'],  # Regularization penalties\n",
    "    'lr_model__C': [0.001, 0.01, 0.1, 1.0, 10.0],  # Inverse of regularization strength\n",
    "    'lr_model__solver': ['liblinear', 'saga'],  # Solvers that support the specified penalties\n",
    "}\n",
    "grid_search = GridSearchCV(estimator=lrpipe, param_grid=param_grid,\n",
    "                           scoring='roc_auc', cv=5, n_jobs=-1)\n",
    "grid_search.fit(x, y)\n",
    "best_params = grid_search.best_params_\n",
    "# best_model = grid_search.best_estimator_\n",
    "best_score = grid_search.best_score_\n",
    "print(f'best_params: {best_params}, \\nbest_score: {best_score}')\n",
    "# cv_results = pd.DataFrame(grid_search.cv_results_)\n",
    "# sorted_cv_results = cv_results.sort_values(by='mean_test_score', ascending=False)\n",
    "# display(sorted_cv_results.head(2))"
   ]
  },
  {
   "cell_type": "markdown",
   "id": "7c3dced1",
   "metadata": {},
   "source": [
    "## Random forest to compare to logistic regression"
   ]
  },
  {
   "cell_type": "code",
   "execution_count": 29,
   "id": "a5818153",
   "metadata": {},
   "outputs": [
    {
     "name": "stdout",
     "output_type": "stream",
     "text": [
      "RandomForestClassifier with default params\n",
      "cv roc_auc score: 0.7278230072763426\n",
      "the score is identical but the coefficients are slightly larger\n"
     ]
    },
    {
     "data": {
      "text/html": [
       "<div>\n",
       "<style scoped>\n",
       "    .dataframe tbody tr th:only-of-type {\n",
       "        vertical-align: middle;\n",
       "    }\n",
       "\n",
       "    .dataframe tbody tr th {\n",
       "        vertical-align: top;\n",
       "    }\n",
       "\n",
       "    .dataframe thead th {\n",
       "        text-align: right;\n",
       "    }\n",
       "</style>\n",
       "<table border=\"1\" class=\"dataframe\">\n",
       "  <thead>\n",
       "    <tr style=\"text-align: right;\">\n",
       "      <th></th>\n",
       "      <th>feature_imp</th>\n",
       "    </tr>\n",
       "  </thead>\n",
       "  <tbody>\n",
       "    <tr>\n",
       "      <th>King's Landing</th>\n",
       "      <td>0.423257</td>\n",
       "    </tr>\n",
       "    <tr>\n",
       "      <th>iPhone</th>\n",
       "      <td>0.283594</td>\n",
       "    </tr>\n",
       "    <tr>\n",
       "      <th>True</th>\n",
       "      <td>0.243486</td>\n",
       "    </tr>\n",
       "    <tr>\n",
       "      <th>Winterfell</th>\n",
       "      <td>0.049663</td>\n",
       "    </tr>\n",
       "  </tbody>\n",
       "</table>\n",
       "</div>"
      ],
      "text/plain": [
       "                feature_imp\n",
       "King's Landing     0.423257\n",
       "iPhone             0.283594\n",
       "True               0.243486\n",
       "Winterfell         0.049663"
      ]
     },
     "metadata": {},
     "output_type": "display_data"
    }
   ],
   "source": [
    "rfpipe = Pipeline([\n",
    "    ('subset_cols', FunctionTransformer(partial(subset_cols, cols=cat_cols))),\n",
    "    ('ohe2', ohe2), \n",
    "    ('model', RandomForestClassifier())\n",
    "])\n",
    "print('RandomForestClassifier with default params')\n",
    "m = cross_validate(estimator=rfpipe, X=x, y=y, \n",
    "                   return_estimator=True, scoring='roc_auc', n_jobs=-1)\n",
    "print(f\"cv roc_auc score: {np.mean(m['test_score'])}\")\n",
    "model = m['estimator'][0]['model']\n",
    "# display(pd.DataFrame(model.coef_, columns=columns))\n",
    "print('the score is identical but the coefficients are slightly larger')\n",
    "display(pd.Series(model.feature_importances_, \n",
    "          index=columns).sort_values(ascending=False).rename('feature_imp').to_frame())"
   ]
  },
  {
   "cell_type": "code",
   "execution_count": 30,
   "id": "29065c2d",
   "metadata": {},
   "outputs": [
    {
     "name": "stdout",
     "output_type": "stream",
     "text": [
      "best_params: {'model__max_depth': 4, 'model__max_features': None, 'model__min_samples_split': 2}, \n",
      "best_score: 0.7278230072763426\n",
      "CPU times: user 6.98 s, sys: 209 ms, total: 7.19 s\n",
      "Wall time: 16.9 s\n"
     ]
    }
   ],
   "source": [
    "%%time\n",
    "param_grid = {\n",
    "    'model__max_depth': [2, 3, 4, 5, 6], \n",
    "    'model__max_features': [None], \n",
    "    'model__min_samples_split': [2, 4, 16],\n",
    "}\n",
    "grid_search = GridSearchCV(estimator=rfpipe, param_grid=param_grid,\n",
    "                           scoring='roc_auc', cv=5, n_jobs=-1)\n",
    "grid_search.fit(x, y)\n",
    "best_params = grid_search.best_params_\n",
    "best_model = grid_search.best_estimator_\n",
    "best_score = grid_search.best_score_\n",
    "print(f'best_params: {best_params}, \\nbest_score: {best_score}')\n",
    "# cv_results = pd.DataFrame(grid_search.cv_results_)\n",
    "# sorted_cv_results = cv_results.sort_values(by='mean_test_score', ascending=False)\n",
    "# display(sorted_cv_results.head(2))"
   ]
  },
  {
   "cell_type": "code",
   "execution_count": 31,
   "id": "04d21aa9",
   "metadata": {},
   "outputs": [
    {
     "name": "stdout",
     "output_type": "stream",
     "text": [
      "Logistic regression with categorical columns and promising numerical columns\n",
      "cv roc_auc score: 0.7592161762543603\n",
      "*********************************************\n",
      "**************Beta Coefficients**************\n"
     ]
    },
    {
     "data": {
      "text/html": [
       "<div>\n",
       "<style scoped>\n",
       "    .dataframe tbody tr th:only-of-type {\n",
       "        vertical-align: middle;\n",
       "    }\n",
       "\n",
       "    .dataframe tbody tr th {\n",
       "        vertical-align: top;\n",
       "    }\n",
       "\n",
       "    .dataframe thead th {\n",
       "        text-align: right;\n",
       "    }\n",
       "</style>\n",
       "<table border=\"1\" class=\"dataframe\">\n",
       "  <thead>\n",
       "    <tr style=\"text-align: right;\">\n",
       "      <th></th>\n",
       "      <th>King's Landing</th>\n",
       "      <th>Winterfell</th>\n",
       "      <th>iPhone</th>\n",
       "      <th>True</th>\n",
       "      <th>trips_in_first_30_days</th>\n",
       "      <th>surge_pct</th>\n",
       "      <th>weekday_pct</th>\n",
       "      <th>avg_dist</th>\n",
       "    </tr>\n",
       "  </thead>\n",
       "  <tbody>\n",
       "    <tr>\n",
       "      <th>0</th>\n",
       "      <td>1.687725</td>\n",
       "      <td>0.533297</td>\n",
       "      <td>1.062256</td>\n",
       "      <td>0.868288</td>\n",
       "      <td>0.120523</td>\n",
       "      <td>0.002462</td>\n",
       "      <td>-0.000042</td>\n",
       "      <td>-0.036204</td>\n",
       "    </tr>\n",
       "  </tbody>\n",
       "</table>\n",
       "</div>"
      ],
      "text/plain": [
       "   King's Landing  Winterfell    iPhone      True  trips_in_first_30_days  \\\n",
       "0        1.687725    0.533297  1.062256  0.868288                0.120523   \n",
       "\n",
       "   surge_pct  weekday_pct  avg_dist  \n",
       "0   0.002462    -0.000042 -0.036204  "
      ]
     },
     "metadata": {},
     "output_type": "display_data"
    }
   ],
   "source": [
    "lrpipe = Pipeline([\n",
    "#     ('subset_cols', FunctionTransformer(partial(subset_cols, cols=''))),\n",
    "    ('cat_process', ColumnTransformer([\n",
    "        ('ohe2', ohe2, cat_cols), \n",
    "        ('passthrough', 'passthrough', promising_num_cols)\n",
    "    ])), \n",
    "    ('model', sklearn.linear_model.LogisticRegression())\n",
    "])\n",
    "print('Logistic regression with categorical columns and promising numerical columns')\n",
    "m = cross_validate(estimator=lrpipe, X=x, y=y, \n",
    "                   return_estimator=True, scoring='roc_auc')\n",
    "print(f\"cv roc_auc score: {np.mean(m['test_score'])}\")\n",
    "model = m['estimator'][0]['model']\n",
    "print('*********************************************')\n",
    "\n",
    "print('**************Beta Coefficients**************')\n",
    "display(pd.DataFrame(model.coef_, columns=columns + promising_num_cols))"
   ]
  },
  {
   "cell_type": "code",
   "execution_count": 32,
   "id": "522ab6a5",
   "metadata": {},
   "outputs": [
    {
     "name": "stdout",
     "output_type": "stream",
     "text": [
      "Logistic regression with categorical columns and all numerical columns\n",
      "cv roc_auc score: 0.7598569042890337\n",
      "*********************************************\n",
      "**************Beta Coefficients**************\n"
     ]
    },
    {
     "data": {
      "text/html": [
       "<div>\n",
       "<style scoped>\n",
       "    .dataframe tbody tr th:only-of-type {\n",
       "        vertical-align: middle;\n",
       "    }\n",
       "\n",
       "    .dataframe tbody tr th {\n",
       "        vertical-align: top;\n",
       "    }\n",
       "\n",
       "    .dataframe thead th {\n",
       "        text-align: right;\n",
       "    }\n",
       "</style>\n",
       "<table border=\"1\" class=\"dataframe\">\n",
       "  <thead>\n",
       "    <tr style=\"text-align: right;\">\n",
       "      <th></th>\n",
       "      <th>King's Landing</th>\n",
       "      <th>Winterfell</th>\n",
       "      <th>iPhone</th>\n",
       "      <th>True</th>\n",
       "      <th>trips_in_first_30_days</th>\n",
       "      <th>surge_pct</th>\n",
       "      <th>weekday_pct</th>\n",
       "      <th>avg_dist</th>\n",
       "      <th>avg_rating_of_driver</th>\n",
       "      <th>avg_surge</th>\n",
       "      <th>avg_rating_by_driver</th>\n",
       "    </tr>\n",
       "  </thead>\n",
       "  <tbody>\n",
       "    <tr>\n",
       "      <th>0</th>\n",
       "      <td>1.71425</td>\n",
       "      <td>0.498231</td>\n",
       "      <td>1.010497</td>\n",
       "      <td>0.872028</td>\n",
       "      <td>0.117951</td>\n",
       "      <td>0.004284</td>\n",
       "      <td>-0.000079</td>\n",
       "      <td>-0.034875</td>\n",
       "      <td>-0.145216</td>\n",
       "      <td>-0.207052</td>\n",
       "      <td>-0.262622</td>\n",
       "    </tr>\n",
       "  </tbody>\n",
       "</table>\n",
       "</div>"
      ],
      "text/plain": [
       "   King's Landing  Winterfell    iPhone      True  trips_in_first_30_days  \\\n",
       "0         1.71425    0.498231  1.010497  0.872028                0.117951   \n",
       "\n",
       "   surge_pct  weekday_pct  avg_dist  avg_rating_of_driver  avg_surge  \\\n",
       "0   0.004284    -0.000079 -0.034875             -0.145216  -0.207052   \n",
       "\n",
       "   avg_rating_by_driver  \n",
       "0             -0.262622  "
      ]
     },
     "metadata": {},
     "output_type": "display_data"
    }
   ],
   "source": [
    "rem_num_feats = [c for c in num_cols if c not in promising_num_cols + ['target']]\n",
    "lrpipe = Pipeline([\n",
    "#     ('subset_cols', FunctionTransformer(partial(subset_cols, cols=''))),\n",
    "    ('cat_process', ColumnTransformer([\n",
    "        ('ohe2', ohe2, cat_cols), \n",
    "        ('passthrough', 'passthrough', promising_num_cols), \n",
    "        ('fillna', SimpleImputer(strategy='mean'), rem_num_feats)\n",
    "    ])), \n",
    "    ('model', sklearn.linear_model.LogisticRegression())\n",
    "])\n",
    "print('Logistic regression with categorical columns and all numerical columns')\n",
    "m = cross_validate(estimator=lrpipe, X=x, y=y, \n",
    "                   return_estimator=True, scoring='roc_auc')\n",
    "print(f\"cv roc_auc score: {np.mean(m['test_score'])}\")\n",
    "model = m['estimator'][0]['model']\n",
    "print('*********************************************')\n",
    "\n",
    "print('**************Beta Coefficients**************')\n",
    "display(pd.DataFrame(model.coef_, columns=columns + promising_num_cols + rem_num_feats)) "
   ]
  },
  {
   "cell_type": "markdown",
   "id": "4d224d9f",
   "metadata": {},
   "source": [
    "#### Best logistic regression\n",
    "Using all features gives the best results. Now lets standardize the features so the coefficients will be more interpretable."
   ]
  },
  {
   "cell_type": "code",
   "execution_count": 33,
   "id": "3a46f5d8",
   "metadata": {},
   "outputs": [
    {
     "name": "stdout",
     "output_type": "stream",
     "text": [
      "Logistic regression with categorical columns and all numerical columns with feature standardization\n",
      "cv roc_auc score: 0.7601760286843524\n",
      "*********************************************\n",
      "**************Beta Coefficients**************\n"
     ]
    },
    {
     "data": {
      "text/html": [
       "<div>\n",
       "<style scoped>\n",
       "    .dataframe tbody tr th:only-of-type {\n",
       "        vertical-align: middle;\n",
       "    }\n",
       "\n",
       "    .dataframe tbody tr th {\n",
       "        vertical-align: top;\n",
       "    }\n",
       "\n",
       "    .dataframe thead th {\n",
       "        text-align: right;\n",
       "    }\n",
       "</style>\n",
       "<table border=\"1\" class=\"dataframe\">\n",
       "  <thead>\n",
       "    <tr style=\"text-align: right;\">\n",
       "      <th></th>\n",
       "      <th>Coefficient</th>\n",
       "    </tr>\n",
       "  </thead>\n",
       "  <tbody>\n",
       "    <tr>\n",
       "      <th>King's Landing</th>\n",
       "      <td>0.686429</td>\n",
       "    </tr>\n",
       "    <tr>\n",
       "      <th>iPhone</th>\n",
       "      <td>0.486167</td>\n",
       "    </tr>\n",
       "    <tr>\n",
       "      <th>trips_in_first_30_days</th>\n",
       "      <td>0.456583</td>\n",
       "    </tr>\n",
       "    <tr>\n",
       "      <th>True</th>\n",
       "      <td>0.422566</td>\n",
       "    </tr>\n",
       "    <tr>\n",
       "      <th>Winterfell</th>\n",
       "      <td>0.258511</td>\n",
       "    </tr>\n",
       "    <tr>\n",
       "      <th>surge_pct</th>\n",
       "      <td>0.076649</td>\n",
       "    </tr>\n",
       "    <tr>\n",
       "      <th>weekday_pct</th>\n",
       "      <td>0.000526</td>\n",
       "    </tr>\n",
       "    <tr>\n",
       "      <th>avg_surge</th>\n",
       "      <td>-0.032924</td>\n",
       "    </tr>\n",
       "    <tr>\n",
       "      <th>avg_rating_of_driver</th>\n",
       "      <td>-0.039818</td>\n",
       "    </tr>\n",
       "    <tr>\n",
       "      <th>avg_rating_by_driver</th>\n",
       "      <td>-0.068243</td>\n",
       "    </tr>\n",
       "    <tr>\n",
       "      <th>avg_dist</th>\n",
       "      <td>-0.199151</td>\n",
       "    </tr>\n",
       "  </tbody>\n",
       "</table>\n",
       "</div>"
      ],
      "text/plain": [
       "                        Coefficient\n",
       "King's Landing             0.686429\n",
       "iPhone                     0.486167\n",
       "trips_in_first_30_days     0.456583\n",
       "True                       0.422566\n",
       "Winterfell                 0.258511\n",
       "surge_pct                  0.076649\n",
       "weekday_pct                0.000526\n",
       "avg_surge                 -0.032924\n",
       "avg_rating_of_driver      -0.039818\n",
       "avg_rating_by_driver      -0.068243\n",
       "avg_dist                  -0.199151"
      ]
     },
     "metadata": {},
     "output_type": "display_data"
    }
   ],
   "source": [
    "rem_num_feats = [c for c in num_cols if c not in promising_num_cols + ['target']]\n",
    "lrpipe = Pipeline([\n",
    "#     ('subset_cols', FunctionTransformer(partial(subset_cols, cols=''))),\n",
    "    ('cat_process', ColumnTransformer([\n",
    "        ('ohe2', ohe2, cat_cols), \n",
    "        ('passthrough', 'passthrough', promising_num_cols), \n",
    "        ('fillna', SimpleImputer(strategy='mean'), rem_num_feats)\n",
    "        \n",
    "    ])), \n",
    "    ('StandardScaler', sklearn.preprocessing.StandardScaler()), \n",
    "    ('model', sklearn.linear_model.LogisticRegression())\n",
    "])\n",
    "print('Logistic regression with categorical columns and all numerical columns with feature standardization')\n",
    "m = cross_validate(estimator=lrpipe, X=x, y=y, \n",
    "                   return_estimator=True, scoring='roc_auc')\n",
    "print(f\"cv roc_auc score: {np.mean(m['test_score'])}\")\n",
    "model = m['estimator'][0]['model']\n",
    "print('*********************************************')\n",
    "\n",
    "print('**************Beta Coefficients**************')\n",
    "dfc = pd.DataFrame(model.coef_, columns=columns + promising_num_cols + rem_num_feats)\n",
    "# display(dfc) \n",
    "display(dfc.T.sort_values(0, ascending=False).rename(columns={0: 'Coefficient'}))"
   ]
  },
  {
   "cell_type": "code",
   "execution_count": 34,
   "id": "ffccfccc",
   "metadata": {},
   "outputs": [],
   "source": [
    "# rem_num_feats = [c for c in num_cols if c not in promising_num_cols + ['target']]\n",
    "# log_values = np.logspace(4, 10, 10)\n",
    "# # Normalize the values to be between 0 and 1\n",
    "# normalized_values = (log_values - min(log_values)) / (max(log_values) - min(log_values))\n",
    "# for C in normalized_values[1:]: \n",
    "#     print('#' * 15, 'C', C, '#' * 15)\n",
    "#     lrpipe = Pipeline([\n",
    "#     #     ('subset_cols', FunctionTransformer(partial(subset_cols, cols=''))),\n",
    "#         ('cat_process', ColumnTransformer([\n",
    "#             ('ohe2', ohe2, cat_cols), \n",
    "#             ('passthrough', 'passthrough', promising_num_cols), \n",
    "#             ('fillna', SimpleImputer(strategy='mean'), rem_num_feats)\n",
    "\n",
    "#         ])), \n",
    "#         ('StandardScaler', sklearn.preprocessing.StandardScaler()), \n",
    "#         ('model', sklearn.linear_model.LogisticRegression(penalty='l1', solver='liblinear', C=C))\n",
    "#     ])\n",
    "#     print('Logistic regression with categorical columns and all numerical columns with feature standardization')\n",
    "#     m = cross_validate(estimator=lrpipe, X=x, y=y, \n",
    "#                        return_estimator=True, scoring='roc_auc')\n",
    "#     print(f\"cv roc_auc score: {np.mean(m['test_score'])}\")\n",
    "#     model = m['estimator'][0]['model']\n",
    "#     print('*********************************************')\n",
    "\n",
    "#     print('**************Beta Coefficients**************')\n",
    "#     dfc = pd.DataFrame(model.coef_, columns=columns + promising_num_cols + rem_num_feats)\n",
    "#     # display(dfc) \n",
    "#     display(dfc.T.sort_values(0, ascending=False).rename(columns={0: 'Coefficient'}))"
   ]
  },
  {
   "cell_type": "code",
   "execution_count": 35,
   "id": "2550d2a1",
   "metadata": {},
   "outputs": [],
   "source": [
    "d = df.copy()[cat_cols + ['target']]\n",
    "d.fillna('most_frequent', inplace=True)"
   ]
  },
  {
   "cell_type": "code",
   "execution_count": 36,
   "id": "2abeab4d",
   "metadata": {},
   "outputs": [],
   "source": [
    "y = df['target']"
   ]
  },
  {
   "cell_type": "markdown",
   "id": "31248231",
   "metadata": {},
   "source": [
    "#### Simple Groupby is as good as any model\n",
    "Just grouping by the categorical columns gives an auc-roc score that is just as good as the best logistic regression or random forest models. This would be my choice of models since it scores the best and is highly explainable. The model simply partitions the customers into groups and takes the mean of the target for each group. These groups can be looked at as different market segments. "
   ]
  },
  {
   "cell_type": "code",
   "execution_count": 37,
   "id": "2345238e",
   "metadata": {},
   "outputs": [
    {
     "name": "stdout",
     "output_type": "stream",
     "text": [
      "Simple groupby categorical column model\n",
      "cv roc_auc score: 0.7601760286843524\n"
     ]
    }
   ],
   "source": [
    "class GroupbyCatCols: \n",
    "    def __init__(self, cat_cols): \n",
    "        self.cat_cols = cat_cols\n",
    "    \n",
    "    def fit(self, df, y): \n",
    "        d = df.copy()\n",
    "        cat_cols = self.cat_cols\n",
    "        d['combined_cat'] = d[cat_cols[0]]\n",
    "        for c in cat_cols[1:]: \n",
    "            d['combined_cat'] += '___' + d[c].astype(str)\n",
    "\n",
    "        mean_dict = df['target'].groupby(d['combined_cat']).mean().to_dict()\n",
    "\n",
    "        levels = [df[c].unique().astype(str) for c in cat_cols]\n",
    "        possible = ['___'.join(p) for p in itertools.product(*levels)]\n",
    "        for p in possible: \n",
    "            if p not in mean_dict: \n",
    "                print(p, 'not in mean_dict')\n",
    "                mean_dict[p] = np.mean(y)\n",
    "        self.mean_dict = mean_dict\n",
    "    \n",
    "    def predict_proba(df): \n",
    "        d = df.copy()\n",
    "        cat_cols = self.cat_cols\n",
    "        d['combined_cat'] = d[cat_cols[0]]\n",
    "        for c in cat_cols[1:]: \n",
    "            d['combined_cat'] += '___' + d[c].astype(str)\n",
    "        return d['combined_cat'].map(self.mean_dict)\n",
    "    \n",
    "    def predict(df): \n",
    "        return (self.predict_proba(df) > .5).astype(int)\n",
    "    \n",
    "grouppipe = Pipeline([\n",
    "    ('convert_None2NaN', FunctionTransformer(lambda df: df.fillna(np.nan))),\n",
    "    ('fillnan', SimpleImputer(strategy='most_frequent')), \n",
    "    ('group', GroupbyCatCols(cat_cols))\n",
    "])\n",
    "print('Simple groupby categorical column model')\n",
    "m = cross_validate(estimator=lrpipe, X=x, y=y, \n",
    "                   return_estimator=True, scoring='roc_auc')\n",
    "print(f\"cv roc_auc score: {np.mean(m['test_score'])}\")"
   ]
  },
  {
   "cell_type": "markdown",
   "id": "98c0c154",
   "metadata": {},
   "source": [
    "## Discussion\n",
    "These groups can be looked at as different market segments. The marketing team could take the segments displayed below and create a marketing plan as they see fit. \n",
    "\n"
   ]
  },
  {
   "cell_type": "code",
   "execution_count": 38,
   "id": "c4ff6ae5",
   "metadata": {},
   "outputs": [
    {
     "data": {
      "text/html": [
       "<div>\n",
       "<style scoped>\n",
       "    .dataframe tbody tr th:only-of-type {\n",
       "        vertical-align: middle;\n",
       "    }\n",
       "\n",
       "    .dataframe tbody tr th {\n",
       "        vertical-align: top;\n",
       "    }\n",
       "\n",
       "    .dataframe thead th {\n",
       "        text-align: right;\n",
       "    }\n",
       "</style>\n",
       "<table border=\"1\" class=\"dataframe\">\n",
       "  <thead>\n",
       "    <tr style=\"text-align: right;\">\n",
       "      <th></th>\n",
       "      <th></th>\n",
       "      <th></th>\n",
       "      <th>target</th>\n",
       "    </tr>\n",
       "    <tr>\n",
       "      <th>city</th>\n",
       "      <th>phone</th>\n",
       "      <th>ultimate_black_user</th>\n",
       "      <th></th>\n",
       "    </tr>\n",
       "  </thead>\n",
       "  <tbody>\n",
       "    <tr>\n",
       "      <th rowspan=\"3\" valign=\"top\">King's Landing</th>\n",
       "      <th>iPhone</th>\n",
       "      <th>True</th>\n",
       "      <td>0.817317</td>\n",
       "    </tr>\n",
       "    <tr>\n",
       "      <th>Android</th>\n",
       "      <th>True</th>\n",
       "      <td>0.601537</td>\n",
       "    </tr>\n",
       "    <tr>\n",
       "      <th>iPhone</th>\n",
       "      <th>False</th>\n",
       "      <td>0.596381</td>\n",
       "    </tr>\n",
       "    <tr>\n",
       "      <th>Winterfell</th>\n",
       "      <th>iPhone</th>\n",
       "      <th>True</th>\n",
       "      <td>0.553620</td>\n",
       "    </tr>\n",
       "    <tr>\n",
       "      <th>Astapor</th>\n",
       "      <th>iPhone</th>\n",
       "      <th>True</th>\n",
       "      <td>0.439812</td>\n",
       "    </tr>\n",
       "    <tr>\n",
       "      <th>Winterfell</th>\n",
       "      <th>iPhone</th>\n",
       "      <th>False</th>\n",
       "      <td>0.350085</td>\n",
       "    </tr>\n",
       "    <tr>\n",
       "      <th>King's Landing</th>\n",
       "      <th>Android</th>\n",
       "      <th>False</th>\n",
       "      <td>0.342785</td>\n",
       "    </tr>\n",
       "    <tr>\n",
       "      <th>Winterfell</th>\n",
       "      <th>Android</th>\n",
       "      <th>True</th>\n",
       "      <td>0.272227</td>\n",
       "    </tr>\n",
       "    <tr>\n",
       "      <th rowspan=\"2\" valign=\"top\">Astapor</th>\n",
       "      <th>iPhone</th>\n",
       "      <th>False</th>\n",
       "      <td>0.230437</td>\n",
       "    </tr>\n",
       "    <tr>\n",
       "      <th>Android</th>\n",
       "      <th>True</th>\n",
       "      <td>0.177559</td>\n",
       "    </tr>\n",
       "    <tr>\n",
       "      <th>Winterfell</th>\n",
       "      <th>Android</th>\n",
       "      <th>False</th>\n",
       "      <td>0.159867</td>\n",
       "    </tr>\n",
       "    <tr>\n",
       "      <th>Astapor</th>\n",
       "      <th>Android</th>\n",
       "      <th>False</th>\n",
       "      <td>0.096159</td>\n",
       "    </tr>\n",
       "  </tbody>\n",
       "</table>\n",
       "</div>"
      ],
      "text/plain": [
       "                                              target\n",
       "city           phone   ultimate_black_user          \n",
       "King's Landing iPhone  True                 0.817317\n",
       "               Android True                 0.601537\n",
       "               iPhone  False                0.596381\n",
       "Winterfell     iPhone  True                 0.553620\n",
       "Astapor        iPhone  True                 0.439812\n",
       "Winterfell     iPhone  False                0.350085\n",
       "King's Landing Android False                0.342785\n",
       "Winterfell     Android True                 0.272227\n",
       "Astapor        iPhone  False                0.230437\n",
       "               Android True                 0.177559\n",
       "Winterfell     Android False                0.159867\n",
       "Astapor        Android False                0.096159"
      ]
     },
     "execution_count": 38,
     "metadata": {},
     "output_type": "execute_result"
    }
   ],
   "source": [
    "df.groupby(cat_cols)['target'].mean().sort_values(ascending=False).to_frame()"
   ]
  },
  {
   "cell_type": "code",
   "execution_count": null,
   "id": "e2d0f041",
   "metadata": {},
   "outputs": [],
   "source": []
  }
 ],
 "metadata": {
  "kernelspec": {
   "display_name": "Python 3 (ipykernel)",
   "language": "python",
   "name": "python3"
  },
  "language_info": {
   "codemirror_mode": {
    "name": "ipython",
    "version": 3
   },
   "file_extension": ".py",
   "mimetype": "text/x-python",
   "name": "python",
   "nbconvert_exporter": "python",
   "pygments_lexer": "ipython3",
   "version": "3.10.12"
  },
  "toc": {
   "base_numbering": 1,
   "nav_menu": {},
   "number_sections": true,
   "sideBar": true,
   "skip_h1_title": false,
   "title_cell": "Table of Contents",
   "title_sidebar": "Contents",
   "toc_cell": false,
   "toc_position": {
    "height": "calc(100% - 180px)",
    "left": "10px",
    "top": "150px",
    "width": "254.4px"
   },
   "toc_section_display": true,
   "toc_window_display": true
  },
  "varInspector": {
   "cols": {
    "lenName": 16,
    "lenType": 16,
    "lenVar": 40
   },
   "kernels_config": {
    "python": {
     "delete_cmd_postfix": "",
     "delete_cmd_prefix": "del ",
     "library": "var_list.py",
     "varRefreshCmd": "print(var_dic_list())"
    },
    "r": {
     "delete_cmd_postfix": ") ",
     "delete_cmd_prefix": "rm(",
     "library": "var_list.r",
     "varRefreshCmd": "cat(var_dic_list()) "
    }
   },
   "types_to_exclude": [
    "module",
    "function",
    "builtin_function_or_method",
    "instance",
    "_Feature"
   ],
   "window_display": false
  }
 },
 "nbformat": 4,
 "nbformat_minor": 5
}
