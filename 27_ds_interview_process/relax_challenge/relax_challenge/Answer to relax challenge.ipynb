{
 "cells": [
  {
   "cell_type": "markdown",
   "id": "a845597e",
   "metadata": {},
   "source": [
    "# Writeup \n",
    "I have found that about 18% of users are \"adopted users\". I have investigated the features and concluded the following: \n",
    " * **Numerical features**: \n",
    "   - 'last_session_creation_time': This is not predictive\n",
    "   - 'opted_in_to_mailing_list': Tiny difference in this feature between adopted users and not: \n",
    "      - non adopted user opt in rate: 0.250935\n",
    "      - adopted user opt in rate: 0.258427\n",
    "   - 'enabled_for_marketing_drip': Similar to last feature, little difference\n",
    "   - 'org_id': different org ids have different target rates. This could be useful\n",
    "   - 'invited_by_user_id': \n",
    "    \n",
    "        \n",
    "        \n",
    "  * **Non-numerical features**\n",
    "      * 'creation_time': Can't find much of a relationship in any weekly, daily, or time relationship. \n",
    "      But There is a relationship with month it seems. users with creation_time in april or may have low adoption rates, but june has exceptionally high adoption rates. This may be due to some special feature of the software use cases.\n",
    "      * 'name': Didn't investigate\n",
    "      * 'email': grouping by the domain name gives so decent info\n",
    "        - **domain, count, target_mean**\n",
    "        - gmail\t2930\t0.185324\n",
    "        - yahoo\t1726\t0.151217\n",
    "        - jourrapide\t883\t0.184598\n",
    "        - gustr\t842\t0.169834\n",
    "        - cuvox\t828\t0.166667\n",
    "        - hotmail\t803\t0.245330\n",
    "      * 'creation_source'\n",
    "         - **creation_source, target_mean**\n",
    "         - GUEST_INVITE          0.226700\n",
    "         - ORG_INVITE            0.173463\n",
    "         - PERSONAL_PROJECTS     0.214660\n",
    "         - SIGNUP                0.154373\n",
    "         - SIGNUP_GOOGLE_AUTH    0.167509\n",
    "      * 'invited_others\n",
    "        - target_mean by invited_others\t\n",
    "        - False\t0.171234\n",
    "        - True\t0.227050"
   ]
  },
  {
   "cell_type": "code",
   "execution_count": 86,
   "id": "6cfae9b7",
   "metadata": {},
   "outputs": [],
   "source": [
    "use_cols = ['creation_source', 'org_id', 'invited_others', 'domain', 'month']"
   ]
  },
  {
   "cell_type": "markdown",
   "id": "657e38e2",
   "metadata": {},
   "source": [
    "# Investigation"
   ]
  },
  {
   "cell_type": "code",
   "execution_count": 1,
   "id": "72c1356f",
   "metadata": {},
   "outputs": [
    {
     "name": "stderr",
     "output_type": "stream",
     "text": [
      "/opt/conda/lib/python3.10/site-packages/scipy/__init__.py:146: UserWarning: A NumPy version >=1.16.5 and <1.23.0 is required for this version of SciPy (detected version 1.23.5\n",
      "  warnings.warn(f\"A NumPy version >={np_minversion} and <{np_maxversion}\"\n"
     ]
    }
   ],
   "source": [
    "import itertools\n",
    "from functools import partial\n",
    "import pandas as pd\n",
    "import numpy as np\n",
    "import seaborn as sns\n",
    "import matplotlib.pyplot as plt\n",
    "\n",
    "import sklearn\n",
    "from sklearn.model_selection import cross_validate, GridSearchCV, KFold\n",
    "from sklearn.metrics import roc_auc_score\n",
    "from sklearn.preprocessing import LabelEncoder, FunctionTransformer, OneHotEncoder\n",
    "from sklearn.impute import SimpleImputer\n",
    "from sklearn.pipeline import Pipeline\n",
    "from sklearn.compose import ColumnTransformer\n",
    "from sklearn.ensemble import RandomForestClassifier\n",
    "\n",
    "import warnings\n",
    "warnings.filterwarnings(\"ignore\")\n",
    "warnings.simplefilter('ignore')"
   ]
  },
  {
   "cell_type": "code",
   "execution_count": 2,
   "id": "b3cb6e97",
   "metadata": {},
   "outputs": [],
   "source": [
    "eng = pd.read_csv('takehome_user_engagement.csv')\n",
    "usr = pd.read_csv('takehome_users.csv', encoding='cp1252')"
   ]
  },
  {
   "cell_type": "code",
   "execution_count": 3,
   "id": "d9ce262a",
   "metadata": {},
   "outputs": [
    {
     "data": {
      "text/html": [
       "<div>\n",
       "<style scoped>\n",
       "    .dataframe tbody tr th:only-of-type {\n",
       "        vertical-align: middle;\n",
       "    }\n",
       "\n",
       "    .dataframe tbody tr th {\n",
       "        vertical-align: top;\n",
       "    }\n",
       "\n",
       "    .dataframe thead th {\n",
       "        text-align: right;\n",
       "    }\n",
       "</style>\n",
       "<table border=\"1\" class=\"dataframe\">\n",
       "  <thead>\n",
       "    <tr style=\"text-align: right;\">\n",
       "      <th></th>\n",
       "      <th>time_stamp</th>\n",
       "      <th>user_id</th>\n",
       "      <th>visited</th>\n",
       "    </tr>\n",
       "  </thead>\n",
       "  <tbody>\n",
       "    <tr>\n",
       "      <th>0</th>\n",
       "      <td>2014-04-22 03:53:30</td>\n",
       "      <td>1</td>\n",
       "      <td>1</td>\n",
       "    </tr>\n",
       "    <tr>\n",
       "      <th>1</th>\n",
       "      <td>2013-11-15 03:45:04</td>\n",
       "      <td>2</td>\n",
       "      <td>1</td>\n",
       "    </tr>\n",
       "    <tr>\n",
       "      <th>2</th>\n",
       "      <td>2013-11-29 03:45:04</td>\n",
       "      <td>2</td>\n",
       "      <td>1</td>\n",
       "    </tr>\n",
       "    <tr>\n",
       "      <th>3</th>\n",
       "      <td>2013-12-09 03:45:04</td>\n",
       "      <td>2</td>\n",
       "      <td>1</td>\n",
       "    </tr>\n",
       "    <tr>\n",
       "      <th>4</th>\n",
       "      <td>2013-12-25 03:45:04</td>\n",
       "      <td>2</td>\n",
       "      <td>1</td>\n",
       "    </tr>\n",
       "    <tr>\n",
       "      <th>5</th>\n",
       "      <td>2013-12-31 03:45:04</td>\n",
       "      <td>2</td>\n",
       "      <td>1</td>\n",
       "    </tr>\n",
       "  </tbody>\n",
       "</table>\n",
       "</div>"
      ],
      "text/plain": [
       "            time_stamp  user_id  visited\n",
       "0  2014-04-22 03:53:30        1        1\n",
       "1  2013-11-15 03:45:04        2        1\n",
       "2  2013-11-29 03:45:04        2        1\n",
       "3  2013-12-09 03:45:04        2        1\n",
       "4  2013-12-25 03:45:04        2        1\n",
       "5  2013-12-31 03:45:04        2        1"
      ]
     },
     "metadata": {},
     "output_type": "display_data"
    },
    {
     "name": "stdout",
     "output_type": "stream",
     "text": [
      "<class 'pandas.core.frame.DataFrame'>\n",
      "RangeIndex: 207917 entries, 0 to 207916\n",
      "Data columns (total 3 columns):\n",
      " #   Column      Non-Null Count   Dtype \n",
      "---  ------      --------------   ----- \n",
      " 0   time_stamp  207917 non-null  object\n",
      " 1   user_id     207917 non-null  int64 \n",
      " 2   visited     207917 non-null  int64 \n",
      "dtypes: int64(2), object(1)\n",
      "memory usage: 4.8+ MB\n"
     ]
    },
    {
     "data": {
      "text/plain": [
       "None"
      ]
     },
     "metadata": {},
     "output_type": "display_data"
    },
    {
     "data": {
      "text/plain": [
       "1    207917\n",
       "Name: visited, dtype: int64"
      ]
     },
     "metadata": {},
     "output_type": "display_data"
    }
   ],
   "source": [
    "display(eng.head(6))\n",
    "display(eng.info())\n",
    "display(eng.visited.value_counts())\n"
   ]
  },
  {
   "cell_type": "code",
   "execution_count": 4,
   "id": "f74f7162",
   "metadata": {},
   "outputs": [],
   "source": [
    "eng['date'] =( pd.to_datetime(eng['time_stamp']) - pd.to_datetime(eng['time_stamp']).min()).dt.days"
   ]
  },
  {
   "cell_type": "code",
   "execution_count": 5,
   "id": "55eeb1b0",
   "metadata": {},
   "outputs": [],
   "source": [
    "eng = eng.sort_values('date')"
   ]
  },
  {
   "cell_type": "code",
   "execution_count": 7,
   "id": "2e3aab96",
   "metadata": {},
   "outputs": [],
   "source": [
    "def min_day_change_for_3_visits(df): \n",
    "    return (df.date - df.date.shift(2)).min() <= 6"
   ]
  },
  {
   "cell_type": "code",
   "execution_count": 8,
   "id": "1d3a4cc4",
   "metadata": {},
   "outputs": [
    {
     "name": "stdout",
     "output_type": "stream",
     "text": [
      "0.18157089425365522\n"
     ]
    }
   ],
   "source": [
    "target = eng.groupby('user_id').apply(min_day_change_for_3_visits).rename('target').astype(int)\n",
    "usr = usr.merge(target, left_on='object_id', right_index=True)\n",
    "usr.isna().sum()\n",
    "print(target.mean())"
   ]
  },
  {
   "cell_type": "code",
   "execution_count": 9,
   "id": "188d6d0e",
   "metadata": {},
   "outputs": [
    {
     "data": {
      "text/html": [
       "<div>\n",
       "<style scoped>\n",
       "    .dataframe tbody tr th:only-of-type {\n",
       "        vertical-align: middle;\n",
       "    }\n",
       "\n",
       "    .dataframe tbody tr th {\n",
       "        vertical-align: top;\n",
       "    }\n",
       "\n",
       "    .dataframe thead th {\n",
       "        text-align: right;\n",
       "    }\n",
       "</style>\n",
       "<table border=\"1\" class=\"dataframe\">\n",
       "  <thead>\n",
       "    <tr style=\"text-align: right;\">\n",
       "      <th></th>\n",
       "      <th>object_id</th>\n",
       "      <th>creation_time</th>\n",
       "      <th>name</th>\n",
       "      <th>email</th>\n",
       "      <th>creation_source</th>\n",
       "      <th>last_session_creation_time</th>\n",
       "      <th>opted_in_to_mailing_list</th>\n",
       "      <th>enabled_for_marketing_drip</th>\n",
       "      <th>org_id</th>\n",
       "      <th>invited_by_user_id</th>\n",
       "      <th>target</th>\n",
       "    </tr>\n",
       "  </thead>\n",
       "  <tbody>\n",
       "    <tr>\n",
       "      <th>0</th>\n",
       "      <td>1</td>\n",
       "      <td>2014-04-22 03:53:30</td>\n",
       "      <td>Clausen August</td>\n",
       "      <td>AugustCClausen@yahoo.com</td>\n",
       "      <td>GUEST_INVITE</td>\n",
       "      <td>1.398139e+09</td>\n",
       "      <td>1</td>\n",
       "      <td>0</td>\n",
       "      <td>11</td>\n",
       "      <td>10803.0</td>\n",
       "      <td>0</td>\n",
       "    </tr>\n",
       "    <tr>\n",
       "      <th>1</th>\n",
       "      <td>2</td>\n",
       "      <td>2013-11-15 03:45:04</td>\n",
       "      <td>Poole Matthew</td>\n",
       "      <td>MatthewPoole@gustr.com</td>\n",
       "      <td>ORG_INVITE</td>\n",
       "      <td>1.396238e+09</td>\n",
       "      <td>0</td>\n",
       "      <td>0</td>\n",
       "      <td>1</td>\n",
       "      <td>316.0</td>\n",
       "      <td>1</td>\n",
       "    </tr>\n",
       "    <tr>\n",
       "      <th>2</th>\n",
       "      <td>3</td>\n",
       "      <td>2013-03-19 23:14:52</td>\n",
       "      <td>Bottrill Mitchell</td>\n",
       "      <td>MitchellBottrill@gustr.com</td>\n",
       "      <td>ORG_INVITE</td>\n",
       "      <td>1.363735e+09</td>\n",
       "      <td>0</td>\n",
       "      <td>0</td>\n",
       "      <td>94</td>\n",
       "      <td>1525.0</td>\n",
       "      <td>0</td>\n",
       "    </tr>\n",
       "    <tr>\n",
       "      <th>3</th>\n",
       "      <td>4</td>\n",
       "      <td>2013-05-21 08:09:28</td>\n",
       "      <td>Clausen Nicklas</td>\n",
       "      <td>NicklasSClausen@yahoo.com</td>\n",
       "      <td>GUEST_INVITE</td>\n",
       "      <td>1.369210e+09</td>\n",
       "      <td>0</td>\n",
       "      <td>0</td>\n",
       "      <td>1</td>\n",
       "      <td>5151.0</td>\n",
       "      <td>0</td>\n",
       "    </tr>\n",
       "    <tr>\n",
       "      <th>4</th>\n",
       "      <td>5</td>\n",
       "      <td>2013-01-17 10:14:20</td>\n",
       "      <td>Raw Grace</td>\n",
       "      <td>GraceRaw@yahoo.com</td>\n",
       "      <td>GUEST_INVITE</td>\n",
       "      <td>1.358850e+09</td>\n",
       "      <td>0</td>\n",
       "      <td>0</td>\n",
       "      <td>193</td>\n",
       "      <td>5240.0</td>\n",
       "      <td>0</td>\n",
       "    </tr>\n",
       "  </tbody>\n",
       "</table>\n",
       "</div>"
      ],
      "text/plain": [
       "   object_id        creation_time               name  \\\n",
       "0          1  2014-04-22 03:53:30     Clausen August   \n",
       "1          2  2013-11-15 03:45:04      Poole Matthew   \n",
       "2          3  2013-03-19 23:14:52  Bottrill Mitchell   \n",
       "3          4  2013-05-21 08:09:28    Clausen Nicklas   \n",
       "4          5  2013-01-17 10:14:20          Raw Grace   \n",
       "\n",
       "                        email creation_source  last_session_creation_time  \\\n",
       "0    AugustCClausen@yahoo.com    GUEST_INVITE                1.398139e+09   \n",
       "1      MatthewPoole@gustr.com      ORG_INVITE                1.396238e+09   \n",
       "2  MitchellBottrill@gustr.com      ORG_INVITE                1.363735e+09   \n",
       "3   NicklasSClausen@yahoo.com    GUEST_INVITE                1.369210e+09   \n",
       "4          GraceRaw@yahoo.com    GUEST_INVITE                1.358850e+09   \n",
       "\n",
       "   opted_in_to_mailing_list  enabled_for_marketing_drip  org_id  \\\n",
       "0                         1                           0      11   \n",
       "1                         0                           0       1   \n",
       "2                         0                           0      94   \n",
       "3                         0                           0       1   \n",
       "4                         0                           0     193   \n",
       "\n",
       "   invited_by_user_id  target  \n",
       "0             10803.0       0  \n",
       "1               316.0       1  \n",
       "2              1525.0       0  \n",
       "3              5151.0       0  \n",
       "4              5240.0       0  "
      ]
     },
     "execution_count": 9,
     "metadata": {},
     "output_type": "execute_result"
    }
   ],
   "source": [
    "usr.head()"
   ]
  },
  {
   "cell_type": "code",
   "execution_count": 17,
   "id": "286b8843",
   "metadata": {},
   "outputs": [
    {
     "data": {
      "text/plain": [
       "['object_id',\n",
       " 'last_session_creation_time',\n",
       " 'opted_in_to_mailing_list',\n",
       " 'enabled_for_marketing_drip',\n",
       " 'org_id',\n",
       " 'invited_by_user_id',\n",
       " 'target']"
      ]
     },
     "execution_count": 17,
     "metadata": {},
     "output_type": "execute_result"
    }
   ],
   "source": [
    "usr.select_dtypes('number').columns.tolist()"
   ]
  },
  {
   "cell_type": "code",
   "execution_count": 10,
   "id": "82f6d51d",
   "metadata": {},
   "outputs": [
    {
     "data": {
      "text/html": [
       "<div>\n",
       "<style scoped>\n",
       "    .dataframe tbody tr th:only-of-type {\n",
       "        vertical-align: middle;\n",
       "    }\n",
       "\n",
       "    .dataframe tbody tr th {\n",
       "        vertical-align: top;\n",
       "    }\n",
       "\n",
       "    .dataframe thead th {\n",
       "        text-align: right;\n",
       "    }\n",
       "</style>\n",
       "<table border=\"1\" class=\"dataframe\">\n",
       "  <thead>\n",
       "    <tr style=\"text-align: right;\">\n",
       "      <th></th>\n",
       "      <th>object_id</th>\n",
       "      <th>last_session_creation_time</th>\n",
       "      <th>opted_in_to_mailing_list</th>\n",
       "      <th>enabled_for_marketing_drip</th>\n",
       "      <th>org_id</th>\n",
       "      <th>invited_by_user_id</th>\n",
       "      <th>target</th>\n",
       "    </tr>\n",
       "  </thead>\n",
       "  <tbody>\n",
       "    <tr>\n",
       "      <th>count</th>\n",
       "      <td>8823.000000</td>\n",
       "      <td>8.823000e+03</td>\n",
       "      <td>8823.000000</td>\n",
       "      <td>8823.000000</td>\n",
       "      <td>8823.000000</td>\n",
       "      <td>4776.000000</td>\n",
       "      <td>8823.000000</td>\n",
       "    </tr>\n",
       "    <tr>\n",
       "      <th>mean</th>\n",
       "      <td>6019.821716</td>\n",
       "      <td>1.379279e+09</td>\n",
       "      <td>0.252295</td>\n",
       "      <td>0.151989</td>\n",
       "      <td>142.572254</td>\n",
       "      <td>5980.495394</td>\n",
       "      <td>0.181571</td>\n",
       "    </tr>\n",
       "    <tr>\n",
       "      <th>std</th>\n",
       "      <td>3464.251001</td>\n",
       "      <td>1.953116e+07</td>\n",
       "      <td>0.434354</td>\n",
       "      <td>0.359031</td>\n",
       "      <td>124.176422</td>\n",
       "      <td>3394.211361</td>\n",
       "      <td>0.385512</td>\n",
       "    </tr>\n",
       "    <tr>\n",
       "      <th>min</th>\n",
       "      <td>1.000000</td>\n",
       "      <td>1.338452e+09</td>\n",
       "      <td>0.000000</td>\n",
       "      <td>0.000000</td>\n",
       "      <td>0.000000</td>\n",
       "      <td>3.000000</td>\n",
       "      <td>0.000000</td>\n",
       "    </tr>\n",
       "    <tr>\n",
       "      <th>25%</th>\n",
       "      <td>3017.500000</td>\n",
       "      <td>1.363195e+09</td>\n",
       "      <td>0.000000</td>\n",
       "      <td>0.000000</td>\n",
       "      <td>30.000000</td>\n",
       "      <td>3071.000000</td>\n",
       "      <td>0.000000</td>\n",
       "    </tr>\n",
       "    <tr>\n",
       "      <th>50%</th>\n",
       "      <td>6034.000000</td>\n",
       "      <td>1.382888e+09</td>\n",
       "      <td>0.000000</td>\n",
       "      <td>0.000000</td>\n",
       "      <td>109.000000</td>\n",
       "      <td>5947.000000</td>\n",
       "      <td>0.000000</td>\n",
       "    </tr>\n",
       "    <tr>\n",
       "      <th>75%</th>\n",
       "      <td>9029.500000</td>\n",
       "      <td>1.398443e+09</td>\n",
       "      <td>1.000000</td>\n",
       "      <td>0.000000</td>\n",
       "      <td>239.000000</td>\n",
       "      <td>8857.250000</td>\n",
       "      <td>0.000000</td>\n",
       "    </tr>\n",
       "    <tr>\n",
       "      <th>max</th>\n",
       "      <td>12000.000000</td>\n",
       "      <td>1.402067e+09</td>\n",
       "      <td>1.000000</td>\n",
       "      <td>1.000000</td>\n",
       "      <td>416.000000</td>\n",
       "      <td>11999.000000</td>\n",
       "      <td>1.000000</td>\n",
       "    </tr>\n",
       "  </tbody>\n",
       "</table>\n",
       "</div>"
      ],
      "text/plain": [
       "          object_id  last_session_creation_time  opted_in_to_mailing_list  \\\n",
       "count   8823.000000                8.823000e+03               8823.000000   \n",
       "mean    6019.821716                1.379279e+09                  0.252295   \n",
       "std     3464.251001                1.953116e+07                  0.434354   \n",
       "min        1.000000                1.338452e+09                  0.000000   \n",
       "25%     3017.500000                1.363195e+09                  0.000000   \n",
       "50%     6034.000000                1.382888e+09                  0.000000   \n",
       "75%     9029.500000                1.398443e+09                  1.000000   \n",
       "max    12000.000000                1.402067e+09                  1.000000   \n",
       "\n",
       "       enabled_for_marketing_drip       org_id  invited_by_user_id  \\\n",
       "count                 8823.000000  8823.000000         4776.000000   \n",
       "mean                     0.151989   142.572254         5980.495394   \n",
       "std                      0.359031   124.176422         3394.211361   \n",
       "min                      0.000000     0.000000            3.000000   \n",
       "25%                      0.000000    30.000000         3071.000000   \n",
       "50%                      0.000000   109.000000         5947.000000   \n",
       "75%                      0.000000   239.000000         8857.250000   \n",
       "max                      1.000000   416.000000        11999.000000   \n",
       "\n",
       "            target  \n",
       "count  8823.000000  \n",
       "mean      0.181571  \n",
       "std       0.385512  \n",
       "min       0.000000  \n",
       "25%       0.000000  \n",
       "50%       0.000000  \n",
       "75%       0.000000  \n",
       "max       1.000000  "
      ]
     },
     "execution_count": 10,
     "metadata": {},
     "output_type": "execute_result"
    }
   ],
   "source": [
    "usr.select_dtypes('number').describe()"
   ]
  },
  {
   "cell_type": "code",
   "execution_count": 15,
   "id": "2b4d188d",
   "metadata": {
    "collapsed": true
   },
   "outputs": [
    {
     "data": {
      "image/png": "[encoded data removed]",
      "text/plain": [
       "<Figure size 640x480 with 1 Axes>"
      ]
     },
     "metadata": {},
     "output_type": "display_data"
    }
   ],
   "source": [
    "sns.histplot(data=usr, x='last_session_creation_time', hue='target', multiple='stack');"
   ]
  },
  {
   "cell_type": "code",
   "execution_count": 19,
   "id": "1c722d7f",
   "metadata": {},
   "outputs": [
    {
     "data": {
      "text/plain": [
       "target\n",
       "0    0.250935\n",
       "1    0.258427\n",
       "Name: opted_in_to_mailing_list, dtype: float64"
      ]
     },
     "execution_count": 19,
     "metadata": {},
     "output_type": "execute_result"
    }
   ],
   "source": [
    "usr.groupby('target')['opted_in_to_mailing_list'].mean()"
   ]
  },
  {
   "cell_type": "code",
   "execution_count": 20,
   "id": "3acfe299",
   "metadata": {},
   "outputs": [
    {
     "data": {
      "text/plain": [
       "target\n",
       "0    0.151641\n",
       "1    0.153558\n",
       "Name: enabled_for_marketing_drip, dtype: float64"
      ]
     },
     "execution_count": 20,
     "metadata": {},
     "output_type": "execute_result"
    }
   ],
   "source": [
    "usr.groupby('target')['enabled_for_marketing_drip'].mean()"
   ]
  },
  {
   "cell_type": "code",
   "execution_count": 22,
   "id": "f2eb8cf4",
   "metadata": {},
   "outputs": [
    {
     "data": {
      "text/plain": [
       "<Axes: >"
      ]
     },
     "execution_count": 22,
     "metadata": {},
     "output_type": "execute_result"
    },
    {
     "data": {
      "image/png": "[encoded data removed]",
      "text/plain": [
       "<Figure size 640x480 with 1 Axes>"
      ]
     },
     "metadata": {},
     "output_type": "display_data"
    }
   ],
   "source": [
    "usr.groupby('org_id').target.mean().hist()"
   ]
  },
  {
   "cell_type": "code",
   "execution_count": 23,
   "id": "1ecb41e4",
   "metadata": {},
   "outputs": [
    {
     "data": {
      "text/plain": [
       "invited_by_user_id\n",
       "False    0.191164\n",
       "True     0.170250\n",
       "Name: target, dtype: float64"
      ]
     },
     "execution_count": 23,
     "metadata": {},
     "output_type": "execute_result"
    }
   ],
   "source": [
    "usr.groupby(usr.invited_by_user_id.isna()).target.mean()"
   ]
  },
  {
   "cell_type": "code",
   "execution_count": 25,
   "id": "f335a7d5",
   "metadata": {},
   "outputs": [],
   "source": [
    "invited_others = set(usr.invited_by_user_id)"
   ]
  },
  {
   "cell_type": "code",
   "execution_count": 27,
   "id": "34941db9",
   "metadata": {},
   "outputs": [],
   "source": [
    "usr['invited_others'] = usr.object_id.isin(invited_others)"
   ]
  },
  {
   "cell_type": "code",
   "execution_count": 29,
   "id": "c0d24adf",
   "metadata": {},
   "outputs": [
    {
     "data": {
      "text/html": [
       "<div>\n",
       "<style scoped>\n",
       "    .dataframe tbody tr th:only-of-type {\n",
       "        vertical-align: middle;\n",
       "    }\n",
       "\n",
       "    .dataframe tbody tr th {\n",
       "        vertical-align: top;\n",
       "    }\n",
       "\n",
       "    .dataframe thead th {\n",
       "        text-align: right;\n",
       "    }\n",
       "</style>\n",
       "<table border=\"1\" class=\"dataframe\">\n",
       "  <thead>\n",
       "    <tr style=\"text-align: right;\">\n",
       "      <th></th>\n",
       "      <th>target_mean</th>\n",
       "    </tr>\n",
       "    <tr>\n",
       "      <th>invited_others</th>\n",
       "      <th></th>\n",
       "    </tr>\n",
       "  </thead>\n",
       "  <tbody>\n",
       "    <tr>\n",
       "      <th>False</th>\n",
       "      <td>0.171234</td>\n",
       "    </tr>\n",
       "    <tr>\n",
       "      <th>True</th>\n",
       "      <td>0.227050</td>\n",
       "    </tr>\n",
       "  </tbody>\n",
       "</table>\n",
       "</div>"
      ],
      "text/plain": [
       "                target_mean\n",
       "invited_others             \n",
       "False              0.171234\n",
       "True               0.227050"
      ]
     },
     "execution_count": 29,
     "metadata": {},
     "output_type": "execute_result"
    }
   ],
   "source": [
    "usr.groupby('invited_others').target.mean().rename('target_mean').to_frame()"
   ]
  },
  {
   "cell_type": "markdown",
   "id": "a0cbaf10",
   "metadata": {},
   "source": [
    "## Object columns"
   ]
  },
  {
   "cell_type": "code",
   "execution_count": 32,
   "id": "7eb915ac",
   "metadata": {},
   "outputs": [
    {
     "data": {
      "text/plain": [
       "['creation_time', 'name', 'email', 'creation_source', 'invited_others']"
      ]
     },
     "execution_count": 32,
     "metadata": {},
     "output_type": "execute_result"
    }
   ],
   "source": [
    "usr.select_dtypes(exclude=['number']).columns.tolist()"
   ]
  },
  {
   "cell_type": "code",
   "execution_count": 30,
   "id": "408bf9f6",
   "metadata": {},
   "outputs": [
    {
     "data": {
      "text/html": [
       "<div>\n",
       "<style scoped>\n",
       "    .dataframe tbody tr th:only-of-type {\n",
       "        vertical-align: middle;\n",
       "    }\n",
       "\n",
       "    .dataframe tbody tr th {\n",
       "        vertical-align: top;\n",
       "    }\n",
       "\n",
       "    .dataframe thead th {\n",
       "        text-align: right;\n",
       "    }\n",
       "</style>\n",
       "<table border=\"1\" class=\"dataframe\">\n",
       "  <thead>\n",
       "    <tr style=\"text-align: right;\">\n",
       "      <th></th>\n",
       "      <th>creation_time</th>\n",
       "      <th>name</th>\n",
       "      <th>email</th>\n",
       "      <th>creation_source</th>\n",
       "      <th>invited_others</th>\n",
       "    </tr>\n",
       "  </thead>\n",
       "  <tbody>\n",
       "    <tr>\n",
       "      <th>count</th>\n",
       "      <td>8823</td>\n",
       "      <td>8823</td>\n",
       "      <td>8823</td>\n",
       "      <td>8823</td>\n",
       "      <td>8823</td>\n",
       "    </tr>\n",
       "    <tr>\n",
       "      <th>unique</th>\n",
       "      <td>8821</td>\n",
       "      <td>8453</td>\n",
       "      <td>8810</td>\n",
       "      <td>5</td>\n",
       "      <td>2</td>\n",
       "    </tr>\n",
       "    <tr>\n",
       "      <th>top</th>\n",
       "      <td>2014-02-11 17:57:53</td>\n",
       "      <td>Correia Leonardo</td>\n",
       "      <td>MarkoSeiler@yahoo.com</td>\n",
       "      <td>ORG_INVITE</td>\n",
       "      <td>False</td>\n",
       "    </tr>\n",
       "    <tr>\n",
       "      <th>freq</th>\n",
       "      <td>2</td>\n",
       "      <td>4</td>\n",
       "      <td>2</td>\n",
       "      <td>3188</td>\n",
       "      <td>7189</td>\n",
       "    </tr>\n",
       "  </tbody>\n",
       "</table>\n",
       "</div>"
      ],
      "text/plain": [
       "              creation_time              name                  email  \\\n",
       "count                  8823              8823                   8823   \n",
       "unique                 8821              8453                   8810   \n",
       "top     2014-02-11 17:57:53  Correia Leonardo  MarkoSeiler@yahoo.com   \n",
       "freq                      2                 4                      2   \n",
       "\n",
       "       creation_source invited_others  \n",
       "count             8823           8823  \n",
       "unique               5              2  \n",
       "top         ORG_INVITE          False  \n",
       "freq              3188           7189  "
      ]
     },
     "execution_count": 30,
     "metadata": {},
     "output_type": "execute_result"
    }
   ],
   "source": [
    "usr.select_dtypes(exclude=['number']).describe()"
   ]
  },
  {
   "cell_type": "code",
   "execution_count": 37,
   "id": "7b51c19a",
   "metadata": {},
   "outputs": [],
   "source": [
    "usr['date'] = pd.to_datetime(usr['creation_time'])"
   ]
  },
  {
   "cell_type": "code",
   "execution_count": 51,
   "id": "f88c02a4",
   "metadata": {},
   "outputs": [
    {
     "data": {
      "text/plain": [
       "Text(0.5, 1.0, 'day of week target mean')"
      ]
     },
     "execution_count": 51,
     "metadata": {},
     "output_type": "execute_result"
    },
    {
     "data": {
      "image/png": "[encoded data removed]",
      "text/plain": [
       "<Figure size 640x480 with 1 Axes>"
      ]
     },
     "metadata": {},
     "output_type": "display_data"
    }
   ],
   "source": [
    "(usr.groupby(usr.date.dt.day_of_week).target.mean()).plot(kind='bar')\n",
    "plt.title('day of week target mean')"
   ]
  },
  {
   "cell_type": "code",
   "execution_count": 46,
   "id": "34493e7b",
   "metadata": {},
   "outputs": [
    {
     "data": {
      "image/png": "[encoded data removed]",
      "text/plain": [
       "<Figure size 640x480 with 1 Axes>"
      ]
     },
     "metadata": {},
     "output_type": "display_data"
    }
   ],
   "source": [
    "(usr.groupby(usr.date.dt.day_of_year).target.mean()).hist()\n",
    "plt.title('day of year target grouping');"
   ]
  },
  {
   "cell_type": "code",
   "execution_count": 52,
   "id": "5634b54d",
   "metadata": {},
   "outputs": [
    {
     "data": {
      "image/png": "[encoded data removed]",
      "text/plain": [
       "<Figure size 640x480 with 1 Axes>"
      ]
     },
     "metadata": {},
     "output_type": "display_data"
    }
   ],
   "source": [
    "(usr.groupby(usr.date.dt.day).target.mean()).plot(kind='bar')\n",
    "plt.title('day of month grouping');"
   ]
  },
  {
   "cell_type": "code",
   "execution_count": 54,
   "id": "b8de5cc1",
   "metadata": {},
   "outputs": [
    {
     "data": {
      "image/png": "[encoded data removed]",
      "text/plain": [
       "<Figure size 640x480 with 1 Axes>"
      ]
     },
     "metadata": {},
     "output_type": "display_data"
    }
   ],
   "source": [
    "(usr.groupby(usr.date.dt.hour).target.mean()).plot(kind='bar')\n",
    "plt.title('hour of day grouping');"
   ]
  },
  {
   "cell_type": "code",
   "execution_count": 56,
   "id": "c8fad1f5",
   "metadata": {},
   "outputs": [
    {
     "data": {
      "image/png": "[encoded data removed]",
      "text/plain": [
       "<Figure size 640x480 with 1 Axes>"
      ]
     },
     "metadata": {},
     "output_type": "display_data"
    }
   ],
   "source": [
    "(usr.groupby(usr.date.dt.month).target.mean()).plot(kind='bar')\n",
    "plt.title('monthly grouping');"
   ]
  },
  {
   "cell_type": "code",
   "execution_count": 83,
   "id": "dbc7dcb7",
   "metadata": {},
   "outputs": [],
   "source": [
    "usr['month'] = usr.date.dt.month"
   ]
  },
  {
   "cell_type": "code",
   "execution_count": 68,
   "id": "32bc1dcd",
   "metadata": {},
   "outputs": [],
   "source": [
    "usr['domain'] = usr.email.str.split('@').str[-1].str.split('.').str[0]"
   ]
  },
  {
   "cell_type": "code",
   "execution_count": 70,
   "id": "1a427534",
   "metadata": {},
   "outputs": [
    {
     "data": {
      "text/plain": [
       "<Axes: >"
      ]
     },
     "execution_count": 70,
     "metadata": {},
     "output_type": "execute_result"
    },
    {
     "data": {
      "image/png": "[encoded data removed]",
      "text/plain": [
       "<Figure size 640x480 with 1 Axes>"
      ]
     },
     "metadata": {},
     "output_type": "display_data"
    }
   ],
   "source": [
    "usr.groupby('domain').target.mean().hist()"
   ]
  },
  {
   "cell_type": "code",
   "execution_count": 72,
   "id": "062ea842",
   "metadata": {},
   "outputs": [
    {
     "data": {
      "text/plain": [
       "<Axes: >"
      ]
     },
     "execution_count": 72,
     "metadata": {},
     "output_type": "execute_result"
    },
    {
     "data": {
      "image/png": "[encoded data removed]",
      "text/plain": [
       "<Figure size 640x480 with 1 Axes>"
      ]
     },
     "metadata": {},
     "output_type": "display_data"
    }
   ],
   "source": [
    "usr.domain.value_counts().hist()"
   ]
  },
  {
   "cell_type": "code",
   "execution_count": 79,
   "id": "137e2fa3",
   "metadata": {},
   "outputs": [
    {
     "data": {
      "text/html": [
       "<div>\n",
       "<style scoped>\n",
       "    .dataframe tbody tr th:only-of-type {\n",
       "        vertical-align: middle;\n",
       "    }\n",
       "\n",
       "    .dataframe tbody tr th {\n",
       "        vertical-align: top;\n",
       "    }\n",
       "\n",
       "    .dataframe thead th {\n",
       "        text-align: right;\n",
       "    }\n",
       "</style>\n",
       "<table border=\"1\" class=\"dataframe\">\n",
       "  <thead>\n",
       "    <tr style=\"text-align: right;\">\n",
       "      <th></th>\n",
       "      <th>domain</th>\n",
       "      <th>target</th>\n",
       "    </tr>\n",
       "  </thead>\n",
       "  <tbody>\n",
       "    <tr>\n",
       "      <th>gmail</th>\n",
       "      <td>2930</td>\n",
       "      <td>0.185324</td>\n",
       "    </tr>\n",
       "    <tr>\n",
       "      <th>yahoo</th>\n",
       "      <td>1726</td>\n",
       "      <td>0.151217</td>\n",
       "    </tr>\n",
       "    <tr>\n",
       "      <th>jourrapide</th>\n",
       "      <td>883</td>\n",
       "      <td>0.184598</td>\n",
       "    </tr>\n",
       "    <tr>\n",
       "      <th>gustr</th>\n",
       "      <td>842</td>\n",
       "      <td>0.169834</td>\n",
       "    </tr>\n",
       "    <tr>\n",
       "      <th>cuvox</th>\n",
       "      <td>828</td>\n",
       "      <td>0.166667</td>\n",
       "    </tr>\n",
       "    <tr>\n",
       "      <th>hotmail</th>\n",
       "      <td>803</td>\n",
       "      <td>0.245330</td>\n",
       "    </tr>\n",
       "    <tr>\n",
       "      <th>luque</th>\n",
       "      <td>2</td>\n",
       "      <td>0.500000</td>\n",
       "    </tr>\n",
       "    <tr>\n",
       "      <th>mumdc</th>\n",
       "      <td>2</td>\n",
       "      <td>0.500000</td>\n",
       "    </tr>\n",
       "    <tr>\n",
       "      <th>oqpze</th>\n",
       "      <td>2</td>\n",
       "      <td>0.000000</td>\n",
       "    </tr>\n",
       "    <tr>\n",
       "      <th>xybhi</th>\n",
       "      <td>2</td>\n",
       "      <td>0.000000</td>\n",
       "    </tr>\n",
       "    <tr>\n",
       "      <th>xvnbr</th>\n",
       "      <td>2</td>\n",
       "      <td>0.000000</td>\n",
       "    </tr>\n",
       "    <tr>\n",
       "      <th>tgaim</th>\n",
       "      <td>1</td>\n",
       "      <td>0.000000</td>\n",
       "    </tr>\n",
       "    <tr>\n",
       "      <th>yhnuj</th>\n",
       "      <td>1</td>\n",
       "      <td>1.000000</td>\n",
       "    </tr>\n",
       "    <tr>\n",
       "      <th>upqhn</th>\n",
       "      <td>1</td>\n",
       "      <td>0.000000</td>\n",
       "    </tr>\n",
       "    <tr>\n",
       "      <th>mngrr</th>\n",
       "      <td>1</td>\n",
       "      <td>0.000000</td>\n",
       "    </tr>\n",
       "    <tr>\n",
       "      <th>gctmd</th>\n",
       "      <td>1</td>\n",
       "      <td>0.000000</td>\n",
       "    </tr>\n",
       "    <tr>\n",
       "      <th>ceqro</th>\n",
       "      <td>1</td>\n",
       "      <td>1.000000</td>\n",
       "    </tr>\n",
       "    <tr>\n",
       "      <th>vkjsm</th>\n",
       "      <td>1</td>\n",
       "      <td>0.000000</td>\n",
       "    </tr>\n",
       "    <tr>\n",
       "      <th>kbaxq</th>\n",
       "      <td>1</td>\n",
       "      <td>0.000000</td>\n",
       "    </tr>\n",
       "    <tr>\n",
       "      <th>eqtvz</th>\n",
       "      <td>1</td>\n",
       "      <td>0.000000</td>\n",
       "    </tr>\n",
       "  </tbody>\n",
       "</table>\n",
       "</div>"
      ],
      "text/plain": [
       "            domain    target\n",
       "gmail         2930  0.185324\n",
       "yahoo         1726  0.151217\n",
       "jourrapide     883  0.184598\n",
       "gustr          842  0.169834\n",
       "cuvox          828  0.166667\n",
       "hotmail        803  0.245330\n",
       "luque            2  0.500000\n",
       "mumdc            2  0.500000\n",
       "oqpze            2  0.000000\n",
       "xybhi            2  0.000000\n",
       "xvnbr            2  0.000000\n",
       "tgaim            1  0.000000\n",
       "yhnuj            1  1.000000\n",
       "upqhn            1  0.000000\n",
       "mngrr            1  0.000000\n",
       "gctmd            1  0.000000\n",
       "ceqro            1  1.000000\n",
       "vkjsm            1  0.000000\n",
       "kbaxq            1  0.000000\n",
       "eqtvz            1  0.000000"
      ]
     },
     "execution_count": 79,
     "metadata": {},
     "output_type": "execute_result"
    }
   ],
   "source": [
    "pd.concat((usr.domain.value_counts(), usr.groupby('domain').target.mean()), axis=1).head(20)"
   ]
  },
  {
   "cell_type": "code",
   "execution_count": 81,
   "id": "b03c7bd0",
   "metadata": {},
   "outputs": [
    {
     "data": {
      "text/plain": [
       "creation_source\n",
       "GUEST_INVITE          0.226700\n",
       "ORG_INVITE            0.173463\n",
       "PERSONAL_PROJECTS     0.214660\n",
       "SIGNUP                0.154373\n",
       "SIGNUP_GOOGLE_AUTH    0.167509\n",
       "Name: target, dtype: float64"
      ]
     },
     "execution_count": 81,
     "metadata": {},
     "output_type": "execute_result"
    }
   ],
   "source": [
    "usr.groupby('creation_source').target.mean()"
   ]
  }
 ],
 "metadata": {
  "kernelspec": {
   "display_name": "Python 3 (ipykernel)",
   "language": "python",
   "name": "python3"
  },
  "language_info": {
   "codemirror_mode": {
    "name": "ipython",
    "version": 3
   },
   "file_extension": ".py",
   "mimetype": "text/x-python",
   "name": "python",
   "nbconvert_exporter": "python",
   "pygments_lexer": "ipython3",
   "version": "3.10.12"
  },
  "toc": {
   "base_numbering": 1,
   "nav_menu": {},
   "number_sections": true,
   "sideBar": true,
   "skip_h1_title": false,
   "title_cell": "Table of Contents",
   "title_sidebar": "Contents",
   "toc_cell": false,
   "toc_position": {},
   "toc_section_display": true,
   "toc_window_display": false
  }
 },
 "nbformat": 4,
 "nbformat_minor": 5
}
